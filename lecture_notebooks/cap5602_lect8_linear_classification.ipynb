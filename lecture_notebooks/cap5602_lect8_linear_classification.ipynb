{
  "nbformat": 4,
  "nbformat_minor": 0,
  "metadata": {
    "colab": {
      "provenance": [],
      "collapsed_sections": []
    },
    "kernelspec": {
      "name": "python3",
      "display_name": "Python 3"
    },
    "language_info": {
      "name": "python"
    }
  },
  "cells": [
    {
      "cell_type": "markdown",
      "metadata": {
        "id": "63GSckRspoZJ"
      },
      "source": [
        "# Linear classification (CAP5602 Lecture 8)\n",
        "\n",
        "In this demo, we will train and test a logistic regression model on a toy classification dataset."
      ]
    },
    {
      "cell_type": "markdown",
      "metadata": {
        "id": "h9MDqr8IxNuh"
      },
      "source": [
        "### 1. Load dataset and split it into train/test sets\n",
        "\n",
        "We can use the [make_classification](https://scikit-learn.org/stable/modules/generated/sklearn.datasets.make_classification.html) function from sklearn to generate the data."
      ]
    },
    {
      "cell_type": "code",
      "metadata": {
        "id": "MefuasTHjBvI"
      },
      "source": [
        "from sklearn.datasets import make_classification\n",
        "from sklearn.model_selection import train_test_split\n",
        "\n",
        "X, Y = make_classification(n_samples=150,\n",
        "                           n_features=2,\n",
        "                           n_informative=2,\n",
        "                           n_redundant=0,\n",
        "                           n_classes=2,\n",
        "                           random_state=12)\n",
        "\n",
        "X_train, X_test, Y_train, Y_test = train_test_split(X, Y, test_size=0.4, random_state=42)\n",
        "\n",
        "print(X_train.shape)\n",
        "print(X_test.shape)"
      ],
      "execution_count": null,
      "outputs": []
    },
    {
      "cell_type": "markdown",
      "metadata": {
        "id": "v5_wyZRu6CF_"
      },
      "source": [
        "### 2. Define and train a logistic regression model on the train set"
      ]
    },
    {
      "cell_type": "code",
      "metadata": {
        "id": "34kjAIGf6Ghn"
      },
      "source": [
        "from sklearn.linear_model import LogisticRegression\n",
        "\n",
        "model = LogisticRegression(C=1.0)\n",
        "model.fit(X_train, Y_train)"
      ],
      "execution_count": null,
      "outputs": []
    },
    {
      "cell_type": "markdown",
      "metadata": {
        "id": "oKY3G5F66ci_"
      },
      "source": [
        "### 3. Evaluate the trained logistic regression model on the test set"
      ]
    },
    {
      "cell_type": "code",
      "metadata": {
        "id": "RYHTLYBl6nzI"
      },
      "source": [
        "from sklearn.metrics import accuracy_score\n",
        "\n",
        "Y_pred = model.predict(X_test)\n",
        "acc = accuracy_score(Y_test, Y_pred)\n",
        "print('Accuracy on test set:', acc)"
      ],
      "execution_count": null,
      "outputs": []
    },
    {
      "cell_type": "markdown",
      "metadata": {
        "id": "Hza4V8n5T88u"
      },
      "source": [
        "### 4. Visualize the decision boundary\n",
        "\n",
        "First, we create a meshgrid."
      ]
    },
    {
      "cell_type": "code",
      "metadata": {
        "id": "mJ1PSvHlUDRS"
      },
      "source": [
        "import numpy as np\n",
        "\n",
        "X0 = X[:, 0]\n",
        "X1 = X[:, 1]\n",
        "\n",
        "# Find the range of the 2 dimensions that we will plot\n",
        "X0_min, X0_max = X0.min()-1, X0.max()+1\n",
        "X1_min, X1_max = X1.min()-1, X1.max()+1\n",
        "\n",
        "n_steps = 100 # Number of steps on each axis\n",
        "\n",
        "# Create a meshgrid\n",
        "xx, yy = np.meshgrid(np.arange(X0_min, X0_max, (X0_max-X0_min)/n_steps),\n",
        "                     np.arange(X1_min, X1_max, (X1_max-X1_min)/n_steps))"
      ],
      "execution_count": null,
      "outputs": []
    },
    {
      "cell_type": "markdown",
      "metadata": {
        "id": "sL5d-oy4XbZv"
      },
      "source": [
        "Next, we predict the model for each point on the meshgrid. Here we use the [predict_proba](https://scikit-learn.org/stable/modules/generated/sklearn.linear_model.LogisticRegression.html#sklearn.linear_model.LogisticRegression.predict_proba) function to get the probability values. For each example, this function will return the probability for all labels. So the result will be an $n \\times c$ matrix where $n$ is the number of examples and $c$ is the number of labels."
      ]
    },
    {
      "cell_type": "code",
      "metadata": {
        "id": "hd4XpxGfVDoW"
      },
      "source": [
        "Z = model.predict_proba(np.c_[xx.ravel(), yy.ravel()])\n",
        "Z1 = Z[:, 1] # Here we use the second column of the predictions, which corresponds to the label 1.\n",
        "Z1 = Z1.reshape(xx.shape)"
      ],
      "execution_count": null,
      "outputs": []
    },
    {
      "cell_type": "markdown",
      "metadata": {
        "id": "FkGe31AkYC75"
      },
      "source": [
        "Finally, we plot the data and contour of the probability."
      ]
    },
    {
      "cell_type": "code",
      "metadata": {
        "id": "auRheOCiVI2t"
      },
      "source": [
        "import matplotlib.pyplot as plt\n",
        "\n",
        "plt.contourf(xx, yy, Z1, cmap=plt.cm.coolwarm, alpha=0.8)\n",
        "plt.scatter(X0, X1, c=Y, cmap=plt.cm.coolwarm, s=50, edgecolors='k')\n",
        "plt.xlabel('x0')\n",
        "plt.ylabel('x1')\n",
        "plt.colorbar()\n",
        "plt.show()"
      ],
      "execution_count": null,
      "outputs": []
    }
  ]
}