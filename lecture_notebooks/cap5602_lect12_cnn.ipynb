{
  "nbformat": 4,
  "nbformat_minor": 0,
  "metadata": {
    "colab": {
      "name": "lect12-cnn.ipynb",
      "provenance": [],
      "collapsed_sections": []
    },
    "kernelspec": {
      "name": "python3",
      "display_name": "Python 3"
    },
    "language_info": {
      "name": "python"
    },
    "accelerator": "GPU"
  },
  "cells": [
    {
      "cell_type": "markdown",
      "metadata": {
        "id": "63GSckRspoZJ"
      },
      "source": [
        "# Convolutional neural network with Keras (CAP5602 Lecture 12)\n",
        "\n",
        "In this demo, we will train and test a CNN model on the CIFAR10 dataset using Keras."
      ]
    },
    {
      "cell_type": "markdown",
      "metadata": {
        "id": "8aieNmVBO2II"
      },
      "source": [
        "## 1. Load dataset\n",
        "\n",
        "The following code snippet will download the data, load it into memory, and convert pixel values to [0, 1]."
      ]
    },
    {
      "cell_type": "code",
      "metadata": {
        "id": "N8WM9P0lLYas"
      },
      "source": [
        "from keras.datasets import cifar10\n",
        "\n",
        "(X_train, Y_train), (X_test, Y_test) = cifar10.load_data()\n",
        "X_train = X_train.astype('float32') / 255\n",
        "X_test = X_test.astype('float32') / 255\n",
        "\n",
        "print(X_train.shape, Y_train.shape)\n",
        "print(X_test.shape, Y_test.shape)"
      ],
      "execution_count": null,
      "outputs": []
    },
    {
      "cell_type": "markdown",
      "metadata": {
        "id": "3myKOyEtiAfy"
      },
      "source": [
        "## 2. Show a few training examples and its label"
      ]
    },
    {
      "cell_type": "code",
      "metadata": {
        "id": "7NvcF5oziEos"
      },
      "source": [
        "import matplotlib.pyplot as plt\n",
        "\n",
        "# List of label strings for CIFAR10\n",
        "label_str = ['airplane', 'automobile', 'bird', 'cat', 'deer', 'dog', 'frog', 'horse', 'ship', 'truck']\n",
        "\n",
        "img_id = 3\n",
        "image = X_train[img_id]\n",
        "label = Y_train[img_id]\n",
        "\n",
        "plt.imshow(image)\n",
        "plt.show()\n",
        "print(label_str[label[0]])"
      ],
      "execution_count": null,
      "outputs": []
    },
    {
      "cell_type": "markdown",
      "metadata": {
        "id": "8QWJNivcjh-u"
      },
      "source": [
        "## 3. Convert label vectors into one-hot encodings"
      ]
    },
    {
      "cell_type": "code",
      "metadata": {
        "id": "Q-BZ2Yy_jlTP"
      },
      "source": [
        "from tensorflow.keras.utils import to_categorical\n",
        "\n",
        "num_classes = 10\n",
        "Y_train = to_categorical(Y_train, num_classes)\n",
        "Y_test = to_categorical(Y_test, num_classes)\n",
        "\n",
        "print(Y_train.shape, Y_test.shape)"
      ],
      "execution_count": null,
      "outputs": []
    },
    {
      "cell_type": "markdown",
      "metadata": {
        "id": "gm7gkMbpjuUh"
      },
      "source": [
        "## 4. Define the CNN model\n",
        "\n",
        "We can add convolutional layers using the Conv2D class and max pooling layer using the MaxPooling2D class. So this CNN model contains:\n",
        "*   2 convolutional layers (each with 32 3x3 filters)\n",
        "*   1 max pooling layer with a 2x2 filter\n",
        "*   The resulting tensor is flattened into a vector\n",
        "*   The flattened vector is put through an MLP with 1 hidden layer (128 hidden nodes)\n",
        "\n"
      ]
    },
    {
      "cell_type": "code",
      "metadata": {
        "id": "4RB9aJy0ju59"
      },
      "source": [
        "from tensorflow.keras.models import Sequential\n",
        "from tensorflow.keras.layers import Dense, Conv2D, MaxPooling2D, Flatten\n",
        "\n",
        "model = Sequential()\n",
        "model.add(Conv2D(32, (3, 3), activation='relu', padding='same', input_shape=(32, 32, 3)))\n",
        "model.add(Conv2D(32, (3, 3), activation='relu', padding='same'))\n",
        "model.add(MaxPooling2D((2, 2)))\n",
        "model.add(Flatten())\n",
        "model.add(Dense(128, activation='relu'))\n",
        "model.add(Dense(10, activation='softmax'))"
      ],
      "execution_count": null,
      "outputs": []
    },
    {
      "cell_type": "markdown",
      "metadata": {
        "id": "-DdumpAjlrC-"
      },
      "source": [
        "## 5. Compile the model"
      ]
    },
    {
      "cell_type": "code",
      "metadata": {
        "id": "--ZnjFmXkKXO"
      },
      "source": [
        "model.compile(loss='categorical_crossentropy', optimizer='sgd', metrics=['accuracy'])"
      ],
      "execution_count": null,
      "outputs": []
    },
    {
      "cell_type": "markdown",
      "metadata": {
        "id": "aNEsQIi-luh2"
      },
      "source": [
        "## 6. Train the model"
      ]
    },
    {
      "cell_type": "code",
      "metadata": {
        "id": "m4rqyov4kK_K"
      },
      "source": [
        "model.fit(X_train, Y_train, epochs=30, batch_size=128)"
      ],
      "execution_count": null,
      "outputs": []
    },
    {
      "cell_type": "markdown",
      "metadata": {
        "id": "UGshOAWKlxif"
      },
      "source": [
        "## 7. Evaluate the trained model on test set"
      ]
    },
    {
      "cell_type": "code",
      "metadata": {
        "id": "8hT_J7OKkPde"
      },
      "source": [
        "_, accuracy = model.evaluate(X_test, Y_test)\n",
        "\n",
        "print(accuracy)"
      ],
      "execution_count": null,
      "outputs": []
    }
  ]
}