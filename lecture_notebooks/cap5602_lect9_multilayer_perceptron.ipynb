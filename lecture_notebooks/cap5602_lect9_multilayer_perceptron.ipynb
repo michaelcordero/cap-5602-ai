{
 "nbformat": 4,
 "nbformat_minor": 0,
 "metadata": {
  "colab": {
   "provenance": [],
   "collapsed_sections": []
  },
  "kernelspec": {
   "name": "python3",
   "display_name": "Python 3"
  },
  "language_info": {
   "name": "python"
  }
 },
 "cells": [
  {
   "cell_type": "markdown",
   "metadata": {
    "id": "63GSckRspoZJ"
   },
   "source": [
    "# Multi-layer perceptron (CAP5602 Lecture 9)\n",
    "\n",
    "In this demo, we will train and test a multi-layer perceptron model on the MNIST handwritten digits dataset."
   ]
  },
  {
   "cell_type": "markdown",
   "metadata": {
    "id": "h9MDqr8IxNuh"
   },
   "source": [
    "## 1. Load dataset\n",
    "\n",
    "To load the original MNIST dataset, we can use the [fetch_openml](https://scikit-learn.org/stable/modules/generated/sklearn.datasets.fetch_openml.html#sklearn.datasets.fetch_openml) method. Since this method will need to download the dataset and load it into memory, it will take a while.\n",
    "\n",
    "Note that an MNIST image has shape 28 x 28. Here the images have already been flatten to a vector of size 784."
   ]
  },
  {
   "cell_type": "code",
   "metadata": {
    "id": "MefuasTHjBvI"
   },
   "source": [
    "from sklearn.datasets import fetch_openml\n",
    "\n",
    "X, Y = fetch_openml('mnist_784', version=1, return_X_y=True, as_frame=False)\n",
    "X = X / 255.  # Scale the pixel values to be in [0, 1]\n",
    "\n",
    "print(X.shape)\n",
    "print(Y.shape)"
   ],
   "execution_count": 1,
   "outputs": [
    {
     "name": "stdout",
     "output_type": "stream",
     "text": [
      "(70000, 784)\n",
      "(70000,)\n"
     ]
    }
   ]
  },
  {
   "cell_type": "markdown",
   "metadata": {
    "id": "LYk2_QvLy0HD"
   },
   "source": [
    "## 2. Split dataset into train/test sets\n",
    "\n",
    "Traditionally, we use 10,000 examples for the test set."
   ]
  },
  {
   "cell_type": "code",
   "metadata": {
    "id": "j4IkRKKHyzkI"
   },
   "source": [
    "from sklearn.model_selection import train_test_split\n",
    "\n",
    "X_train, X_test, Y_train, Y_test = train_test_split(X, Y, test_size=10000, random_state=42)\n",
    "\n",
    "print(X_train.shape)\n",
    "print(X_test.shape)"
   ],
   "execution_count": 2,
   "outputs": [
    {
     "name": "stdout",
     "output_type": "stream",
     "text": [
      "(60000, 784)\n",
      "(10000, 784)\n"
     ]
    }
   ]
  },
  {
   "cell_type": "markdown",
   "metadata": {
    "id": "8WoYyG_d0WaW"
   },
   "source": [
    "## 3. Show a training example and its label\n",
    "\n",
    "We can reshape an example into a 28 x 28 matrix and plot it using matplotlib."
   ]
  },
  {
   "cell_type": "code",
   "metadata": {
    "id": "ZOmvIG8A0bRr"
   },
   "source": [
    "import matplotlib.pyplot as plt\n",
    "\n",
    "img_id = 10\n",
    "image = X_train[img_id].reshape((28, 28))\n",
    "label = Y_train[img_id]\n",
    "\n",
    "plt.imshow(image)\n",
    "plt.show()\n",
    "print(label)"
   ],
   "execution_count": 3,
   "outputs": [
    {
     "data": {
      "text/plain": "<Figure size 640x480 with 1 Axes>",
      "image/png": "[encoded data removed]"
     },
     "metadata": {},
     "output_type": "display_data"
    },
    {
     "name": "stdout",
     "output_type": "stream",
     "text": [
      "4\n"
     ]
    }
   ]
  },
  {
   "cell_type": "markdown",
   "metadata": {
    "id": "v5_wyZRu6CF_"
   },
   "source": [
    "### 4. Define and train an MLP classifier\n",
    "\n",
    "We will define and train an MLP classifier with one hidden layer that contains 50 neurons and uses ReLU activation. This classifier will be trained with SGD for 30 epochs. We also set 'verbose=True' to track the training progress."
   ]
  },
  {
   "cell_type": "code",
   "metadata": {
    "id": "34kjAIGf6Ghn"
   },
   "source": [
    "from sklearn.neural_network import MLPClassifier\n",
    "\n",
    "mlp = MLPClassifier(hidden_layer_sizes=(50,), max_iter=30, solver='sgd', verbose=True)\n",
    "mlp.fit(X_train, Y_train)"
   ],
   "execution_count": 4,
   "outputs": [
    {
     "name": "stdout",
     "output_type": "stream",
     "text": [
      "Iteration 1, loss = 1.53803840\n",
      "Iteration 2, loss = 0.77803383\n",
      "Iteration 3, loss = 0.57452110\n",
      "Iteration 4, loss = 0.48860459\n",
      "Iteration 5, loss = 0.44053133\n",
      "Iteration 6, loss = 0.40922773\n",
      "Iteration 7, loss = 0.38667119\n",
      "Iteration 8, loss = 0.36947039\n",
      "Iteration 9, loss = 0.35586436\n",
      "Iteration 10, loss = 0.34440778\n",
      "Iteration 11, loss = 0.33464395\n",
      "Iteration 12, loss = 0.32617708\n",
      "Iteration 13, loss = 0.31870996\n",
      "Iteration 14, loss = 0.31189600\n",
      "Iteration 15, loss = 0.30577945\n",
      "Iteration 16, loss = 0.30004374\n",
      "Iteration 17, loss = 0.29474572\n",
      "Iteration 18, loss = 0.28982686\n",
      "Iteration 19, loss = 0.28497290\n",
      "Iteration 20, loss = 0.28051375\n",
      "Iteration 21, loss = 0.27616959\n",
      "Iteration 22, loss = 0.27187584\n",
      "Iteration 23, loss = 0.26801123\n",
      "Iteration 24, loss = 0.26404997\n",
      "Iteration 25, loss = 0.26039204\n",
      "Iteration 26, loss = 0.25685238\n",
      "Iteration 27, loss = 0.25335153\n",
      "Iteration 28, loss = 0.25004185\n",
      "Iteration 29, loss = 0.24695568\n",
      "Iteration 30, loss = 0.24377497\n"
     ]
    },
    {
     "name": "stderr",
     "output_type": "stream",
     "text": [
      "/Users/michaelcordero/Library/Caches/pypoetry/virtualenvs/cap-5602-ai-nGwmg2tw-py3.10/lib/python3.10/site-packages/sklearn/neural_network/_multilayer_perceptron.py:702: ConvergenceWarning: Stochastic Optimizer: Maximum iterations (30) reached and the optimization hasn't converged yet.\n",
      "  warnings.warn(\n"
     ]
    },
    {
     "data": {
      "text/plain": "MLPClassifier(hidden_layer_sizes=(50,), max_iter=30, solver='sgd', verbose=True)",
      "text/html": "<style>#sk-container-id-1 {color: black;background-color: white;}#sk-container-id-1 pre{padding: 0;}#sk-container-id-1 div.sk-toggleable {background-color: white;}#sk-container-id-1 label.sk-toggleable__label {cursor: pointer;display: block;width: 100%;margin-bottom: 0;padding: 0.3em;box-sizing: border-box;text-align: center;}#sk-container-id-1 label.sk-toggleable__label-arrow:before {content: \"▸\";float: left;margin-right: 0.25em;color: #696969;}#sk-container-id-1 label.sk-toggleable__label-arrow:hover:before {color: black;}#sk-container-id-1 div.sk-estimator:hover label.sk-toggleable__label-arrow:before {color: black;}#sk-container-id-1 div.sk-toggleable__content {max-height: 0;max-width: 0;overflow: hidden;text-align: left;background-color: #f0f8ff;}#sk-container-id-1 div.sk-toggleable__content pre {margin: 0.2em;color: black;border-radius: 0.25em;background-color: #f0f8ff;}#sk-container-id-1 input.sk-toggleable__control:checked~div.sk-toggleable__content {max-height: 200px;max-width: 100%;overflow: auto;}#sk-container-id-1 input.sk-toggleable__control:checked~label.sk-toggleable__label-arrow:before {content: \"▾\";}#sk-container-id-1 div.sk-estimator input.sk-toggleable__control:checked~label.sk-toggleable__label {background-color: #d4ebff;}#sk-container-id-1 div.sk-label input.sk-toggleable__control:checked~label.sk-toggleable__label {background-color: #d4ebff;}#sk-container-id-1 input.sk-hidden--visually {border: 0;clip: rect(1px 1px 1px 1px);clip: rect(1px, 1px, 1px, 1px);height: 1px;margin: -1px;overflow: hidden;padding: 0;position: absolute;width: 1px;}#sk-container-id-1 div.sk-estimator {font-family: monospace;background-color: #f0f8ff;border: 1px dotted black;border-radius: 0.25em;box-sizing: border-box;margin-bottom: 0.5em;}#sk-container-id-1 div.sk-estimator:hover {background-color: #d4ebff;}#sk-container-id-1 div.sk-parallel-item::after {content: \"\";width: 100%;border-bottom: 1px solid gray;flex-grow: 1;}#sk-container-id-1 div.sk-label:hover label.sk-toggleable__label {background-color: #d4ebff;}#sk-container-id-1 div.sk-serial::before {content: \"\";position: absolute;border-left: 1px solid gray;box-sizing: border-box;top: 0;bottom: 0;left: 50%;z-index: 0;}#sk-container-id-1 div.sk-serial {display: flex;flex-direction: column;align-items: center;background-color: white;padding-right: 0.2em;padding-left: 0.2em;position: relative;}#sk-container-id-1 div.sk-item {position: relative;z-index: 1;}#sk-container-id-1 div.sk-parallel {display: flex;align-items: stretch;justify-content: center;background-color: white;position: relative;}#sk-container-id-1 div.sk-item::before, #sk-container-id-1 div.sk-parallel-item::before {content: \"\";position: absolute;border-left: 1px solid gray;box-sizing: border-box;top: 0;bottom: 0;left: 50%;z-index: -1;}#sk-container-id-1 div.sk-parallel-item {display: flex;flex-direction: column;z-index: 1;position: relative;background-color: white;}#sk-container-id-1 div.sk-parallel-item:first-child::after {align-self: flex-end;width: 50%;}#sk-container-id-1 div.sk-parallel-item:last-child::after {align-self: flex-start;width: 50%;}#sk-container-id-1 div.sk-parallel-item:only-child::after {width: 0;}#sk-container-id-1 div.sk-dashed-wrapped {border: 1px dashed gray;margin: 0 0.4em 0.5em 0.4em;box-sizing: border-box;padding-bottom: 0.4em;background-color: white;}#sk-container-id-1 div.sk-label label {font-family: monospace;font-weight: bold;display: inline-block;line-height: 1.2em;}#sk-container-id-1 div.sk-label-container {text-align: center;}#sk-container-id-1 div.sk-container {/* jupyter's `normalize.less` sets `[hidden] { display: none; }` but bootstrap.min.css set `[hidden] { display: none !important; }` so we also need the `!important` here to be able to override the default hidden behavior on the sphinx rendered scikit-learn.org. See: https://github.com/scikit-learn/scikit-learn/issues/21755 */display: inline-block !important;position: relative;}#sk-container-id-1 div.sk-text-repr-fallback {display: none;}</style><div id=\"sk-container-id-1\" class=\"sk-top-container\"><div class=\"sk-text-repr-fallback\"><pre>MLPClassifier(hidden_layer_sizes=(50,), max_iter=30, solver=&#x27;sgd&#x27;, verbose=True)</pre><b>In a Jupyter environment, please rerun this cell to show the HTML representation or trust the notebook. <br />On GitHub, the HTML representation is unable to render, please try loading this page with nbviewer.org.</b></div><div class=\"sk-container\" hidden><div class=\"sk-item\"><div class=\"sk-estimator sk-toggleable\"><input class=\"sk-toggleable__control sk-hidden--visually\" id=\"sk-estimator-id-1\" type=\"checkbox\" checked><label for=\"sk-estimator-id-1\" class=\"sk-toggleable__label sk-toggleable__label-arrow\">MLPClassifier</label><div class=\"sk-toggleable__content\"><pre>MLPClassifier(hidden_layer_sizes=(50,), max_iter=30, solver=&#x27;sgd&#x27;, verbose=True)</pre></div></div></div></div></div>"
     },
     "execution_count": 4,
     "metadata": {},
     "output_type": "execute_result"
    }
   ]
  },
  {
   "cell_type": "markdown",
   "metadata": {
    "id": "euZHnyEo6Uqx"
   },
   "source": [
    "## 5. Show a test example and its predicted label"
   ]
  },
  {
   "cell_type": "code",
   "metadata": {
    "id": "8K4UYbZx6Yu7"
   },
   "source": [
    "img_id = 5\n",
    "image = X_test[img_id]\n",
    "\n",
    "# Convert the image into 28 x 28 matrix to plot\n",
    "plt.imshow(image.reshape((28, 28)))\n",
    "plt.show()\n",
    "\n",
    "# Convert the image vector into a matrix 1 x 784 before prediction\n",
    "predicted_label = mlp.predict(image.reshape((1, 784)))\n",
    "print(predicted_label)"
   ],
   "execution_count": 5,
   "outputs": [
    {
     "data": {
      "text/plain": "<Figure size 640x480 with 1 Axes>",
      "image/png": "[encoded data removed]"
     },
     "metadata": {},
     "output_type": "display_data"
    },
    {
     "name": "stdout",
     "output_type": "stream",
     "text": [
      "['0']\n"
     ]
    }
   ]
  },
  {
   "cell_type": "markdown",
   "metadata": {
    "id": "oKY3G5F66ci_"
   },
   "source": [
    "### 6. Evaluate the trained MLP on the test set"
   ]
  },
  {
   "cell_type": "code",
   "metadata": {
    "id": "RYHTLYBl6nzI"
   },
   "source": [
    "from sklearn.metrics import accuracy_score\n",
    "\n",
    "Y_pred = mlp.predict(X_test)\n",
    "acc = accuracy_score(Y_test, Y_pred)\n",
    "print('Accuracy on test set:', acc)"
   ],
   "execution_count": 6,
   "outputs": [
    {
     "name": "stdout",
     "output_type": "stream",
     "text": [
      "Accuracy on test set: 0.9298\n"
     ]
    }
   ]
  }
 ]
}
