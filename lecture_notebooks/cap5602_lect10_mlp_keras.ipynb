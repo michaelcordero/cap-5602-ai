{
 "nbformat": 4,
 "nbformat_minor": 0,
 "metadata": {
  "colab": {
   "provenance": [],
   "collapsed_sections": []
  },
  "kernelspec": {
   "name": "python3",
   "display_name": "Python 3"
  },
  "language_info": {
   "name": "python"
  }
 },
 "cells": [
  {
   "cell_type": "markdown",
   "metadata": {
    "id": "63GSckRspoZJ"
   },
   "source": [
    "# Multi-layer perceptrons with Keras (CAP5602 Lecture 10)\n",
    "\n",
    "In this demo, we will train and test a multi-layer perceptron model on the MNIST handwritten digits dataset using Keras."
   ]
  },
  {
   "cell_type": "markdown",
   "metadata": {
    "id": "8aieNmVBO2II"
   },
   "source": [
    "## 1. Load dataset\n",
    "\n",
    "Like sklearn, Keras also provides an API to download and load the MNIST dataset. The following code snippet will download the data, load it into memory, and convert pixel values to [0, 1]."
   ]
  },
  {
   "cell_type": "code",
   "metadata": {
    "id": "N8WM9P0lLYas"
   },
   "source": [
    "from keras.datasets import mnist\n",
    "\n",
    "(X_train, Y_train), (X_test, Y_test) = mnist.load_data()\n",
    "X_train = X_train.astype('float32') / 255\n",
    "X_test = X_test.astype('float32') / 255\n",
    "\n",
    "print(X_train.shape, Y_train.shape)\n",
    "print(X_test.shape, Y_test.shape)"
   ],
   "execution_count": 3,
   "outputs": [
    {
     "name": "stderr",
     "output_type": "stream",
     "text": [
      "2022-09-29 00:58:57.954633: I tensorflow/core/platform/cpu_feature_guard.cc:193] This TensorFlow binary is optimized with oneAPI Deep Neural Network Library (oneDNN) to use the following CPU instructions in performance-critical operations:  AVX2 FMA\n",
      "To enable them in other operations, rebuild TensorFlow with the appropriate compiler flags.\n"
     ]
    },
    {
     "name": "stdout",
     "output_type": "stream",
     "text": [
      "Downloading data from https://storage.googleapis.com/tensorflow/tf-keras-datasets/mnist.npz\n",
      "11490434/11490434 [==============================] - 1s 0us/step\n",
      "(60000, 28, 28) (60000,)\n",
      "(10000, 28, 28) (10000,)\n"
     ]
    }
   ]
  },
  {
   "cell_type": "markdown",
   "metadata": {
    "id": "AqG4Ms29F9z_"
   },
   "source": [
    "## 2. Show a few training examples and its label"
   ]
  },
  {
   "cell_type": "code",
   "metadata": {
    "id": "WffFB6scGCh0"
   },
   "source": [
    "import matplotlib.pyplot as plt\n",
    "\n",
    "img_id = 5\n",
    "image = X_train[img_id]\n",
    "label = Y_train[img_id]\n",
    "\n",
    "plt.imshow(image)\n",
    "plt.show()\n",
    "print(label)"
   ],
   "execution_count": 4,
   "outputs": [
    {
     "data": {
      "text/plain": "<Figure size 640x480 with 1 Axes>",
      "image/png": "[encoded data removed]"
     },
     "metadata": {},
     "output_type": "display_data"
    },
    {
     "name": "stdout",
     "output_type": "stream",
     "text": [
      "2\n"
     ]
    }
   ]
  },
  {
   "cell_type": "markdown",
   "metadata": {
    "id": "j5oSsHDyKdOV"
   },
   "source": [
    "## 3. Flatten the inputs into vectors\n",
    "\n",
    "When we load the data with Keras, the images are not flattened. So we flatten them into vectors to train with an MLP model."
   ]
  },
  {
   "cell_type": "code",
   "metadata": {
    "id": "FMW07LxNKkcG"
   },
   "source": [
    "X_train = X_train.reshape(-1, 28*28)\n",
    "X_test = X_test.reshape(-1, 28*28)\n",
    "\n",
    "print(X_train.shape, X_test.shape)"
   ],
   "execution_count": 5,
   "outputs": [
    {
     "name": "stdout",
     "output_type": "stream",
     "text": [
      "(60000, 784) (10000, 784)\n"
     ]
    }
   ]
  },
  {
   "cell_type": "markdown",
   "metadata": {
    "id": "9CpvkubAO-pE"
   },
   "source": [
    "## 4. Convert label vectors into one-hot encodings\n",
    "\n",
    "When using Keras for classification, the labels have to be converted into one-hot encoding vectors. We can do this using the [to_categorial](https://www.tensorflow.org/api_docs/python/tf/keras/utils/to_categorical) method."
   ]
  },
  {
   "cell_type": "code",
   "metadata": {
    "id": "0rPJrL4xL8rh"
   },
   "source": [
    "from tensorflow.keras.utils import to_categorical\n",
    "\n",
    "num_classes = 10\n",
    "Y_train = to_categorical(Y_train, num_classes)\n",
    "Y_test = to_categorical(Y_test, num_classes)\n",
    "\n",
    "print(Y_train.shape, Y_test.shape)"
   ],
   "execution_count": 6,
   "outputs": [
    {
     "name": "stdout",
     "output_type": "stream",
     "text": [
      "(60000, 10) (10000, 10)\n"
     ]
    }
   ]
  },
  {
   "cell_type": "markdown",
   "metadata": {
    "id": "Qo4RjIAaPGxa"
   },
   "source": [
    "## 4. Define the MLP model\n",
    "\n",
    "We can define an MLP model using a [Sequential](https://keras.io/api/models/sequential/) model and the [Dense](https://keras.io/api/layers/core_layers/dense/) layers. In most cases, we will define a model as a Sequential model, and then add layers to it one-by-one."
   ]
  },
  {
   "cell_type": "code",
   "metadata": {
    "id": "XElZvngXCsT6"
   },
   "source": [
    "from tensorflow.keras.models import Sequential\n",
    "from tensorflow.keras.layers import Dense\n",
    "\n",
    "model = Sequential()\n",
    "model.add(Dense(50, activation='relu'))\n",
    "model.add(Dense(50, activation='relu'))\n",
    "model.add(Dense(10, activation='softmax'))"
   ],
   "execution_count": 7,
   "outputs": [
    {
     "name": "stderr",
     "output_type": "stream",
     "text": [
      "2022-09-29 00:59:04.342183: I tensorflow/core/platform/cpu_feature_guard.cc:193] This TensorFlow binary is optimized with oneAPI Deep Neural Network Library (oneDNN) to use the following CPU instructions in performance-critical operations:  AVX2 FMA\n",
      "To enable them in other operations, rebuild TensorFlow with the appropriate compiler flags.\n"
     ]
    }
   ]
  },
  {
   "cell_type": "markdown",
   "metadata": {
    "id": "pZONj3oJJcZZ"
   },
   "source": [
    "## 5. Compile the model\n",
    "\n",
    "Before training a Keras model, we need to compile it to set up all the options for training, such as loss function, optimizer, and evaluation metrics. Here we will use cross entropy loss and the SGD optimizer. Our evaluation metric will be accuracy."
   ]
  },
  {
   "cell_type": "code",
   "metadata": {
    "id": "c25OV_XaJgIT"
   },
   "source": [
    "model.compile(loss='categorical_crossentropy', optimizer='sgd', metrics=['accuracy'])"
   ],
   "execution_count": 8,
   "outputs": []
  },
  {
   "cell_type": "markdown",
   "metadata": {
    "id": "e2XuB7yxPMiK"
   },
   "source": [
    "## 6. Train the model\n",
    "\n",
    "Now we can train the model using the `fit(...)` method. We can specify the number of epochs and batch size for training."
   ]
  },
  {
   "cell_type": "code",
   "metadata": {
    "id": "O4d4eFVnFY8R"
   },
   "source": [
    "model.fit(X_train, Y_train, epochs=100, batch_size=128)"
   ],
   "execution_count": 9,
   "outputs": [
    {
     "name": "stdout",
     "output_type": "stream",
     "text": [
      "Epoch 1/100\n",
      "469/469 [==============================] - 1s 2ms/step - loss: 1.3569 - accuracy: 0.6463\n",
      "Epoch 2/100\n",
      "469/469 [==============================] - 1s 2ms/step - loss: 0.5287 - accuracy: 0.8635\n",
      "Epoch 3/100\n",
      "469/469 [==============================] - 1s 2ms/step - loss: 0.4026 - accuracy: 0.8884\n",
      "Epoch 4/100\n",
      "469/469 [==============================] - 1s 2ms/step - loss: 0.3527 - accuracy: 0.9005\n",
      "Epoch 5/100\n",
      "469/469 [==============================] - 1s 2ms/step - loss: 0.3231 - accuracy: 0.9078\n",
      "Epoch 6/100\n",
      "469/469 [==============================] - 1s 2ms/step - loss: 0.3018 - accuracy: 0.9135\n",
      "Epoch 7/100\n",
      "469/469 [==============================] - 1s 2ms/step - loss: 0.2848 - accuracy: 0.9183\n",
      "Epoch 8/100\n",
      "469/469 [==============================] - 1s 2ms/step - loss: 0.2704 - accuracy: 0.9228\n",
      "Epoch 9/100\n",
      "469/469 [==============================] - 1s 2ms/step - loss: 0.2578 - accuracy: 0.9266\n",
      "Epoch 10/100\n",
      "469/469 [==============================] - 1s 2ms/step - loss: 0.2467 - accuracy: 0.9291\n",
      "Epoch 11/100\n",
      "469/469 [==============================] - 1s 2ms/step - loss: 0.2371 - accuracy: 0.9322\n",
      "Epoch 12/100\n",
      "469/469 [==============================] - 1s 2ms/step - loss: 0.2282 - accuracy: 0.9347\n",
      "Epoch 13/100\n",
      "469/469 [==============================] - 1s 2ms/step - loss: 0.2201 - accuracy: 0.9372\n",
      "Epoch 14/100\n",
      "469/469 [==============================] - 1s 2ms/step - loss: 0.2128 - accuracy: 0.9388\n",
      "Epoch 15/100\n",
      "469/469 [==============================] - 1s 2ms/step - loss: 0.2059 - accuracy: 0.9410\n",
      "Epoch 16/100\n",
      "469/469 [==============================] - 1s 2ms/step - loss: 0.1996 - accuracy: 0.9427\n",
      "Epoch 17/100\n",
      "469/469 [==============================] - 1s 2ms/step - loss: 0.1939 - accuracy: 0.9448\n",
      "Epoch 18/100\n",
      "469/469 [==============================] - 1s 2ms/step - loss: 0.1883 - accuracy: 0.9463\n",
      "Epoch 19/100\n",
      "469/469 [==============================] - 1s 2ms/step - loss: 0.1831 - accuracy: 0.9484\n",
      "Epoch 20/100\n",
      "469/469 [==============================] - 1s 2ms/step - loss: 0.1783 - accuracy: 0.9494\n",
      "Epoch 21/100\n",
      "469/469 [==============================] - 1s 2ms/step - loss: 0.1737 - accuracy: 0.9509\n",
      "Epoch 22/100\n",
      "469/469 [==============================] - 1s 2ms/step - loss: 0.1694 - accuracy: 0.9518\n",
      "Epoch 23/100\n",
      "469/469 [==============================] - 1s 2ms/step - loss: 0.1652 - accuracy: 0.9533\n",
      "Epoch 24/100\n",
      "469/469 [==============================] - 1s 2ms/step - loss: 0.1612 - accuracy: 0.9545\n",
      "Epoch 25/100\n",
      "469/469 [==============================] - 1s 2ms/step - loss: 0.1575 - accuracy: 0.9555\n",
      "Epoch 26/100\n",
      "469/469 [==============================] - 1s 2ms/step - loss: 0.1540 - accuracy: 0.9564\n",
      "Epoch 27/100\n",
      "469/469 [==============================] - 1s 2ms/step - loss: 0.1506 - accuracy: 0.9572\n",
      "Epoch 28/100\n",
      "469/469 [==============================] - 1s 2ms/step - loss: 0.1474 - accuracy: 0.9580\n",
      "Epoch 29/100\n",
      "469/469 [==============================] - 1s 2ms/step - loss: 0.1443 - accuracy: 0.9593\n",
      "Epoch 30/100\n",
      "469/469 [==============================] - 1s 2ms/step - loss: 0.1414 - accuracy: 0.9599\n",
      "Epoch 31/100\n",
      "469/469 [==============================] - 1s 2ms/step - loss: 0.1385 - accuracy: 0.9604\n",
      "Epoch 32/100\n",
      "469/469 [==============================] - 1s 2ms/step - loss: 0.1358 - accuracy: 0.9614\n",
      "Epoch 33/100\n",
      "469/469 [==============================] - 1s 2ms/step - loss: 0.1331 - accuracy: 0.9623\n",
      "Epoch 34/100\n",
      "469/469 [==============================] - 1s 2ms/step - loss: 0.1306 - accuracy: 0.9626\n",
      "Epoch 35/100\n",
      "469/469 [==============================] - 1s 2ms/step - loss: 0.1282 - accuracy: 0.9638\n",
      "Epoch 36/100\n",
      "469/469 [==============================] - 1s 2ms/step - loss: 0.1258 - accuracy: 0.9639\n",
      "Epoch 37/100\n",
      "469/469 [==============================] - 1s 2ms/step - loss: 0.1235 - accuracy: 0.9651\n",
      "Epoch 38/100\n",
      "469/469 [==============================] - 1s 2ms/step - loss: 0.1214 - accuracy: 0.9657\n",
      "Epoch 39/100\n",
      "469/469 [==============================] - 1s 2ms/step - loss: 0.1191 - accuracy: 0.9660\n",
      "Epoch 40/100\n",
      "469/469 [==============================] - 1s 2ms/step - loss: 0.1171 - accuracy: 0.9665\n",
      "Epoch 41/100\n",
      "469/469 [==============================] - 1s 2ms/step - loss: 0.1153 - accuracy: 0.9671\n",
      "Epoch 42/100\n",
      "469/469 [==============================] - 1s 2ms/step - loss: 0.1131 - accuracy: 0.9677\n",
      "Epoch 43/100\n",
      "469/469 [==============================] - 1s 2ms/step - loss: 0.1113 - accuracy: 0.9682\n",
      "Epoch 44/100\n",
      "469/469 [==============================] - 1s 2ms/step - loss: 0.1096 - accuracy: 0.9690\n",
      "Epoch 45/100\n",
      "469/469 [==============================] - 1s 2ms/step - loss: 0.1076 - accuracy: 0.9694\n",
      "Epoch 46/100\n",
      "469/469 [==============================] - 1s 2ms/step - loss: 0.1059 - accuracy: 0.9700\n",
      "Epoch 47/100\n",
      "469/469 [==============================] - 1s 2ms/step - loss: 0.1044 - accuracy: 0.9702\n",
      "Epoch 48/100\n",
      "469/469 [==============================] - 1s 2ms/step - loss: 0.1028 - accuracy: 0.9709\n",
      "Epoch 49/100\n",
      "469/469 [==============================] - 1s 2ms/step - loss: 0.1012 - accuracy: 0.9714\n",
      "Epoch 50/100\n",
      "469/469 [==============================] - 1s 2ms/step - loss: 0.0996 - accuracy: 0.9718\n",
      "Epoch 51/100\n",
      "469/469 [==============================] - 1s 2ms/step - loss: 0.0982 - accuracy: 0.9724\n",
      "Epoch 52/100\n",
      "469/469 [==============================] - 1s 2ms/step - loss: 0.0967 - accuracy: 0.9723\n",
      "Epoch 53/100\n",
      "469/469 [==============================] - 1s 2ms/step - loss: 0.0953 - accuracy: 0.9730\n",
      "Epoch 54/100\n",
      "469/469 [==============================] - 1s 2ms/step - loss: 0.0940 - accuracy: 0.9734\n",
      "Epoch 55/100\n",
      "469/469 [==============================] - 1s 2ms/step - loss: 0.0925 - accuracy: 0.9741\n",
      "Epoch 56/100\n",
      "469/469 [==============================] - 1s 2ms/step - loss: 0.0914 - accuracy: 0.9745\n",
      "Epoch 57/100\n",
      "469/469 [==============================] - 1s 2ms/step - loss: 0.0900 - accuracy: 0.9754\n",
      "Epoch 58/100\n",
      "469/469 [==============================] - 1s 2ms/step - loss: 0.0887 - accuracy: 0.9753\n",
      "Epoch 59/100\n",
      "469/469 [==============================] - 1s 2ms/step - loss: 0.0874 - accuracy: 0.9754\n",
      "Epoch 60/100\n",
      "469/469 [==============================] - 1s 2ms/step - loss: 0.0865 - accuracy: 0.9760\n",
      "Epoch 61/100\n",
      "469/469 [==============================] - 1s 2ms/step - loss: 0.0852 - accuracy: 0.9761\n",
      "Epoch 62/100\n",
      "469/469 [==============================] - 1s 2ms/step - loss: 0.0842 - accuracy: 0.9768\n",
      "Epoch 63/100\n",
      "469/469 [==============================] - 1s 2ms/step - loss: 0.0830 - accuracy: 0.9772\n",
      "Epoch 64/100\n",
      "469/469 [==============================] - 1s 2ms/step - loss: 0.0820 - accuracy: 0.9773\n",
      "Epoch 65/100\n",
      "469/469 [==============================] - 1s 2ms/step - loss: 0.0808 - accuracy: 0.9776\n",
      "Epoch 66/100\n",
      "469/469 [==============================] - 1s 2ms/step - loss: 0.0798 - accuracy: 0.9777\n",
      "Epoch 67/100\n",
      "469/469 [==============================] - 1s 2ms/step - loss: 0.0787 - accuracy: 0.9783\n",
      "Epoch 68/100\n",
      "469/469 [==============================] - 1s 2ms/step - loss: 0.0779 - accuracy: 0.9785\n",
      "Epoch 69/100\n",
      "469/469 [==============================] - 1s 2ms/step - loss: 0.0769 - accuracy: 0.9790\n",
      "Epoch 70/100\n",
      "469/469 [==============================] - 1s 2ms/step - loss: 0.0759 - accuracy: 0.9787\n",
      "Epoch 71/100\n",
      "469/469 [==============================] - 1s 2ms/step - loss: 0.0750 - accuracy: 0.9790\n",
      "Epoch 72/100\n",
      "469/469 [==============================] - 1s 2ms/step - loss: 0.0741 - accuracy: 0.9796\n",
      "Epoch 73/100\n",
      "469/469 [==============================] - 1s 2ms/step - loss: 0.0730 - accuracy: 0.9795\n",
      "Epoch 74/100\n",
      "469/469 [==============================] - 1s 2ms/step - loss: 0.0724 - accuracy: 0.9799\n",
      "Epoch 75/100\n",
      "469/469 [==============================] - 1s 2ms/step - loss: 0.0715 - accuracy: 0.9803\n",
      "Epoch 76/100\n",
      "469/469 [==============================] - 1s 2ms/step - loss: 0.0707 - accuracy: 0.9801\n",
      "Epoch 77/100\n",
      "469/469 [==============================] - 1s 2ms/step - loss: 0.0698 - accuracy: 0.9805\n",
      "Epoch 78/100\n",
      "469/469 [==============================] - 1s 2ms/step - loss: 0.0690 - accuracy: 0.9808\n",
      "Epoch 79/100\n",
      "469/469 [==============================] - 1s 2ms/step - loss: 0.0683 - accuracy: 0.9805\n",
      "Epoch 80/100\n",
      "469/469 [==============================] - 1s 2ms/step - loss: 0.0675 - accuracy: 0.9814\n",
      "Epoch 81/100\n",
      "469/469 [==============================] - 1s 2ms/step - loss: 0.0667 - accuracy: 0.9814\n",
      "Epoch 82/100\n",
      "469/469 [==============================] - 1s 2ms/step - loss: 0.0660 - accuracy: 0.9816\n",
      "Epoch 83/100\n",
      "469/469 [==============================] - 1s 2ms/step - loss: 0.0652 - accuracy: 0.9818\n",
      "Epoch 84/100\n",
      "469/469 [==============================] - 1s 2ms/step - loss: 0.0645 - accuracy: 0.9822\n",
      "Epoch 85/100\n",
      "469/469 [==============================] - 1s 2ms/step - loss: 0.0638 - accuracy: 0.9821\n",
      "Epoch 86/100\n",
      "469/469 [==============================] - 1s 2ms/step - loss: 0.0631 - accuracy: 0.9823\n",
      "Epoch 87/100\n",
      "469/469 [==============================] - 1s 2ms/step - loss: 0.0624 - accuracy: 0.9830\n",
      "Epoch 88/100\n",
      "469/469 [==============================] - 1s 2ms/step - loss: 0.0618 - accuracy: 0.9826\n",
      "Epoch 89/100\n",
      "469/469 [==============================] - 1s 2ms/step - loss: 0.0612 - accuracy: 0.9831\n",
      "Epoch 90/100\n",
      "469/469 [==============================] - 1s 2ms/step - loss: 0.0604 - accuracy: 0.9832\n",
      "Epoch 91/100\n",
      "469/469 [==============================] - 1s 2ms/step - loss: 0.0599 - accuracy: 0.9835\n",
      "Epoch 92/100\n",
      "469/469 [==============================] - 1s 2ms/step - loss: 0.0591 - accuracy: 0.9840\n",
      "Epoch 93/100\n",
      "469/469 [==============================] - 1s 2ms/step - loss: 0.0587 - accuracy: 0.9839\n",
      "Epoch 94/100\n",
      "469/469 [==============================] - 1s 2ms/step - loss: 0.0580 - accuracy: 0.9836\n",
      "Epoch 95/100\n",
      "469/469 [==============================] - 1s 2ms/step - loss: 0.0574 - accuracy: 0.9841\n",
      "Epoch 96/100\n",
      "469/469 [==============================] - 1s 2ms/step - loss: 0.0568 - accuracy: 0.9842\n",
      "Epoch 97/100\n",
      "469/469 [==============================] - 1s 2ms/step - loss: 0.0563 - accuracy: 0.9845\n",
      "Epoch 98/100\n",
      "469/469 [==============================] - 1s 2ms/step - loss: 0.0556 - accuracy: 0.9849\n",
      "Epoch 99/100\n",
      "469/469 [==============================] - 1s 2ms/step - loss: 0.0550 - accuracy: 0.9852\n",
      "Epoch 100/100\n",
      "469/469 [==============================] - 1s 2ms/step - loss: 0.0545 - accuracy: 0.9850\n"
     ]
    },
    {
     "data": {
      "text/plain": "<keras.callbacks.History at 0x15e522c20>"
     },
     "execution_count": 9,
     "metadata": {},
     "output_type": "execute_result"
    }
   ]
  },
  {
   "cell_type": "markdown",
   "metadata": {
    "id": "EIMxsvj7PPNB"
   },
   "source": [
    "## 7. Evaluate the trained model on test set\n",
    "\n",
    "Finally, we can compute the model accuracy on the test set."
   ]
  },
  {
   "cell_type": "code",
   "metadata": {
    "id": "K1cMOdJAG1-C"
   },
   "source": [
    "_, accuracy = model.evaluate(X_test, Y_test)\n",
    "\n",
    "print(accuracy)"
   ],
   "execution_count": 10,
   "outputs": [
    {
     "name": "stdout",
     "output_type": "stream",
     "text": [
      "313/313 [==============================] - 1s 1ms/step - loss: 0.0875 - accuracy: 0.9729\n",
      "0.9728999733924866\n"
     ]
    }
   ]
  }
 ]
}
