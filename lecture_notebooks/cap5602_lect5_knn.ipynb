{
  "nbformat": 4,
  "nbformat_minor": 0,
  "metadata": {
    "colab": {
      "name": "lect5-knn.ipynb",
      "provenance": [],
      "collapsed_sections": []
    },
    "kernelspec": {
      "name": "python3",
      "display_name": "Python 3"
    },
    "language_info": {
      "name": "python"
    }
  },
  "cells": [
    {
      "cell_type": "markdown",
      "metadata": {
        "id": "YqX1Xl-7GmaP"
      },
      "source": [
        "# Nearest Neighbors (CAP5602 Lecture 5)\n",
        "\n",
        "In this example, we will train a nearest neighbor regressor on a toy 1d regression dataset to predict the sine function."
      ]
    },
    {
      "cell_type": "markdown",
      "metadata": {
        "id": "vyzZNRHfHJ6t"
      },
      "source": [
        "## 1. Generate the toy dataset"
      ]
    },
    {
      "cell_type": "code",
      "metadata": {
        "id": "Dyjf02U3CCY2"
      },
      "source": [
        "import numpy as np\n",
        "\n",
        "# Fix random seed\n",
        "np.random.seed(0)\n",
        "\n",
        "# Set number of examples\n",
        "n_samples = 100\n",
        "\n",
        "# Generate inputs X uniformly from [0, 5) and sort them\n",
        "X = np.sort(5 * np.random.rand(n_samples, 1), axis=0)\n",
        "\n",
        "# Generate outputs Y = sin(X) + Gaussian noise (mean=0 and std=0.1)\n",
        "Y = np.sin(X) + np.random.normal(scale=0.1, size=(n_samples, 1))\n",
        "\n",
        "# Print data shapes and some samples for checking\n",
        "print(X.shape, Y.shape)\n",
        "print(X[:5])\n",
        "print(Y[:5])"
      ],
      "execution_count": null,
      "outputs": []
    },
    {
      "cell_type": "markdown",
      "metadata": {
        "id": "OLShtZ-3M9Up"
      },
      "source": [
        "## 2. Split data into train/test sets"
      ]
    },
    {
      "cell_type": "code",
      "metadata": {
        "id": "-oI3Kh_lM8SR"
      },
      "source": [
        "from sklearn.model_selection import train_test_split\n",
        "\n",
        "X_train, X_test, Y_train, Y_test = train_test_split(X, Y, test_size=0.20, random_state=42)\n",
        "\n",
        "print(X_train.shape, X_test.shape)"
      ],
      "execution_count": null,
      "outputs": []
    },
    {
      "cell_type": "markdown",
      "metadata": {
        "id": "1solyXsJH2Ok"
      },
      "source": [
        "## 3. Visualize the data with matplotlib"
      ]
    },
    {
      "cell_type": "code",
      "metadata": {
        "id": "SPGuyKpqGlin"
      },
      "source": [
        "import matplotlib.pyplot as plt\n",
        "\n",
        "plt.scatter(X_train, Y_train, color='black') # Plot train points with black color\n",
        "plt.scatter(X_test, Y_test, color='red') # Plot test points with red color\n",
        "plt.show() # Show the plot"
      ],
      "execution_count": null,
      "outputs": []
    },
    {
      "cell_type": "markdown",
      "metadata": {
        "id": "x4OJ6YLfOsbl"
      },
      "source": [
        "## 4. Create and train K-NN Regressor on train set"
      ]
    },
    {
      "cell_type": "code",
      "metadata": {
        "id": "QALp75NpM2ei"
      },
      "source": [
        "from sklearn import neighbors\n",
        "\n",
        "# Set the number of neighbors and the weight function\n",
        "n_neighbors = 5\n",
        "weights = 'uniform'\n",
        "\n",
        "# Create the regressor model and fit (train) with the train dataset\n",
        "knn = neighbors.KNeighborsRegressor(n_neighbors, weights)\n",
        "knn.fit(X_train, Y_train)"
      ],
      "execution_count": null,
      "outputs": []
    },
    {
      "cell_type": "markdown",
      "metadata": {
        "id": "Ygp-oac8P-Lq"
      },
      "source": [
        "## 5. Make predictions on test set"
      ]
    },
    {
      "cell_type": "code",
      "metadata": {
        "id": "ihUY0fh1QI_L"
      },
      "source": [
        "Y_pred = knn.predict(X_test)\n",
        "\n",
        "print(Y_pred[:5])"
      ],
      "execution_count": null,
      "outputs": []
    },
    {
      "cell_type": "markdown",
      "metadata": {
        "id": "ld3LYB_FQZpy"
      },
      "source": [
        "## 6. Evaluate the predictions\n",
        "\n",
        "For regression, we can use mean squared error as the metric for evaluation. Note that our noise has standard deviation $0.1$, so a well trained model should have mean squared error around $0.1^2 = 0.01$."
      ]
    },
    {
      "cell_type": "code",
      "metadata": {
        "id": "yh67buXDQdyC"
      },
      "source": [
        "from sklearn.metrics import mean_squared_error\n",
        "\n",
        "mse = mean_squared_error(Y_test, Y_pred)\n",
        "\n",
        "print(mse)"
      ],
      "execution_count": null,
      "outputs": []
    },
    {
      "cell_type": "markdown",
      "metadata": {
        "id": "pDFTeql_UQVK"
      },
      "source": [
        "## 7. Visualize the trained model\n",
        "\n",
        "To visualize the trained model, we need to create several points in the input space, make predictions on these points, and plot the predictions."
      ]
    },
    {
      "cell_type": "code",
      "metadata": {
        "id": "5ofPm4R9UTwh"
      },
      "source": [
        "import matplotlib.pyplot as plt\n",
        "\n",
        "# Generate 200 inputs evenly spaced on [0, 5] and reshape them into a 200 x 1 matrix (each row is an example)\n",
        "xx = np.linspace(0, 5, 200).reshape(-1, 1)\n",
        "\n",
        "# Make prediction on these inputs\n",
        "yy = knn.predict(xx)\n",
        "\n",
        "# Plot a line connecting these points\n",
        "plt.plot(xx, yy, color='lime', label='prediction', linewidth=3)\n",
        "\n",
        "# Plot train points with black color\n",
        "plt.scatter(X_train, Y_train, color='black', label='train')\n",
        "\n",
        "# Plot test points with red color\n",
        "plt.scatter(X_test, Y_test, color='red', label='test')\n",
        "\n",
        "# Add the legend\n",
        "plt.legend()\n",
        "\n",
        "# Show the plot\n",
        "plt.show()"
      ],
      "execution_count": null,
      "outputs": []
    }
  ]
}