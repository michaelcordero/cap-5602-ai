{
  "nbformat": 4,
  "nbformat_minor": 0,
  "metadata": {
    "colab": {
      "name": "lect11a-image-classification.ipynb",
      "provenance": [],
      "collapsed_sections": []
    },
    "kernelspec": {
      "name": "python3",
      "display_name": "Python 3"
    },
    "language_info": {
      "name": "python"
    }
  },
  "cells": [
    {
      "cell_type": "markdown",
      "metadata": {
        "id": "63GSckRspoZJ"
      },
      "source": [
        "# Image classification (CAP5602 Lecture 11)\n",
        "\n",
        "In this demo, we will try the VGG16 pre-trained deep learning model for image classification. We will use the model to make predictions on some images downloaded from the Internet."
      ]
    },
    {
      "cell_type": "markdown",
      "metadata": {
        "id": "-7w9cdiE4XU8"
      },
      "source": [
        "## 1. Load and summarize the model"
      ]
    },
    {
      "cell_type": "code",
      "metadata": {
        "id": "BZaQ2hNP0OxC"
      },
      "source": [
        "from keras.applications.vgg16 import VGG16\n",
        "\n",
        "model = VGG16()\n",
        "model.summary()"
      ],
      "execution_count": null,
      "outputs": []
    },
    {
      "cell_type": "markdown",
      "metadata": {
        "id": "omBqmTIpCh-d"
      },
      "source": [
        "## 2. Download the test image\n",
        "\n",
        "We can download an image to Colab using wget and save it as **test_img.jpg**."
      ]
    },
    {
      "cell_type": "code",
      "metadata": {
        "id": "rDvVVBvT1UOg"
      },
      "source": [
        "!wget -O test_img.jpg https://post.medicalnewstoday.com/wp-content/uploads/sites/3/2020/02/322868_1100-800x825.jpg\n",
        "# !wget -O test_img.jpg https://images.theconversation.com/files/350865/original/file-20200803-24-50u91u.jpg\n",
        "# !wget -O test_img.jpg https://upload.wikimedia.org/wikipedia/commons/a/a3/Eq_it-na_pizza-margherita_sep2005_sml.jpg"
      ],
      "execution_count": null,
      "outputs": []
    },
    {
      "cell_type": "markdown",
      "metadata": {
        "id": "2hhMGkv0Cv9Z"
      },
      "source": [
        "## 3. Load and show the test image\n",
        "\n",
        "Next, we load the image as shape (224, 224) and show it."
      ]
    },
    {
      "cell_type": "code",
      "metadata": {
        "id": "-NTTdSGU2SPz"
      },
      "source": [
        "from keras.preprocessing.image import load_img\n",
        "import matplotlib.pyplot as plt\n",
        "\n",
        "image = load_img('test_img.jpg', target_size=(224, 224))\n",
        "plt.imshow(image)\n",
        "plt.show()"
      ],
      "execution_count": null,
      "outputs": []
    },
    {
      "cell_type": "markdown",
      "metadata": {
        "id": "R0Mm5vv5C7cr"
      },
      "source": [
        "## 4. Pre-process the image\n",
        "\n",
        "We need to convert the image to numpy array, add the first dimension to make it a dataset, and pre-process it for the VGG16 model."
      ]
    },
    {
      "cell_type": "code",
      "metadata": {
        "id": "lAWidsVY3h7Q"
      },
      "source": [
        "from keras.preprocessing.image import img_to_array\n",
        "from keras.applications.vgg16 import preprocess_input\n",
        "\n",
        "image = img_to_array(image)\n",
        "image = image.reshape((1, image.shape[0], image.shape[1], image.shape[2]))\n",
        "image = preprocess_input(image)"
      ],
      "execution_count": null,
      "outputs": []
    },
    {
      "cell_type": "markdown",
      "metadata": {
        "id": "_TxoDY0dDpAi"
      },
      "source": [
        "## 5. Make prediction\n",
        "\n",
        "Now we can use the model to predict the label of the image. We will use [decode_predictions](https://www.tensorflow.org/api_docs/python/tf/keras/applications/imagenet_utils/decode_predictions) method to convert prediction probabilities to actual class labels."
      ]
    },
    {
      "cell_type": "code",
      "metadata": {
        "id": "cksuftJU2nRW"
      },
      "source": [
        "from keras.applications.vgg16 import decode_predictions\n",
        "\n",
        "# Predict probabilities for all 1000 classes\n",
        "pred_probs = model.predict(image)\n",
        "\n",
        "# convert the probabilities to class labels\n",
        "label = decode_predictions(pred_probs)\n",
        "\n",
        "# retrieve the most likely result, e.g. highest probability\n",
        "label = label[0][0]\n",
        "\n",
        "# print the classification\n",
        "print('%s (%.2f%%)' % (label[1], label[2]*100))"
      ],
      "execution_count": null,
      "outputs": []
    }
  ]
}