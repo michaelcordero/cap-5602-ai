{
 "nbformat": 4,
 "nbformat_minor": 0,
 "metadata": {
  "colab": {
   "provenance": [],
   "collapsed_sections": []
  },
  "kernelspec": {
   "name": "python3",
   "display_name": "Python 3"
  },
  "language_info": {
   "name": "python"
  }
 },
 "cells": [
  {
   "cell_type": "markdown",
   "metadata": {
    "id": "hatOOkipow-O"
   },
   "source": [
    "# Decision Trees (CAP5602 Lecture 4)\n",
    "\n",
    "In this example, we will train a decision tree classifier on the Iris dataset."
   ]
  },
  {
   "cell_type": "markdown",
   "metadata": {
    "id": "xpg_kXOUnXBM"
   },
   "source": [
    "### 1. Load data\n",
    "\n",
    "First, we load the dataset from `sklearn` and print its feature names as well as the target names (labels)."
   ]
  },
  {
   "cell_type": "code",
   "metadata": {
    "id": "Fo1bouWtoa2A"
   },
   "source": [
    "from sklearn.datasets import load_iris\n",
    "\n",
    "iris = load_iris()\n",
    "\n",
    "print(iris.feature_names)\n",
    "print(iris.target_names)"
   ],
   "execution_count": 1,
   "outputs": [
    {
     "name": "stdout",
     "output_type": "stream",
     "text": [
      "['sepal length (cm)', 'sepal width (cm)', 'petal length (cm)', 'petal width (cm)']\n",
      "['setosa' 'versicolor' 'virginica']\n"
     ]
    }
   ]
  },
  {
   "cell_type": "markdown",
   "metadata": {
    "id": "F1H3wLnKh8aV"
   },
   "source": [
    "This dataset has 4 features and 3 labels.\n",
    "\n",
    "Now we get the input matrix X and the label vector Y from the dataset:\n",
    "*   Each row of the matrix X is an example and each column corresponds to a feature.\n",
    "*   The label vector Y contains the labels of all examples.\n",
    "\n",
    "Let's print the sizes of the input matrix X and the label vector Y. Also, print the first 10 examples and labels."
   ]
  },
  {
   "cell_type": "code",
   "metadata": {
    "id": "hW49tKvHhUBZ"
   },
   "source": [
    "X, Y = iris.data, iris.target\n",
    "\n",
    "print(X.shape)\n",
    "print(Y.shape)\n",
    "\n",
    "# Print the first 10 examples\n",
    "print(X[:10])\n",
    "print(Y[:10])"
   ],
   "execution_count": 2,
   "outputs": [
    {
     "name": "stdout",
     "output_type": "stream",
     "text": [
      "(150, 4)\n",
      "(150,)\n",
      "[[5.1 3.5 1.4 0.2]\n",
      " [4.9 3.  1.4 0.2]\n",
      " [4.7 3.2 1.3 0.2]\n",
      " [4.6 3.1 1.5 0.2]\n",
      " [5.  3.6 1.4 0.2]\n",
      " [5.4 3.9 1.7 0.4]\n",
      " [4.6 3.4 1.4 0.3]\n",
      " [5.  3.4 1.5 0.2]\n",
      " [4.4 2.9 1.4 0.2]\n",
      " [4.9 3.1 1.5 0.1]]\n",
      "[0 0 0 0 0 0 0 0 0 0]\n"
     ]
    }
   ]
  },
  {
   "cell_type": "markdown",
   "metadata": {
    "id": "MjrlW1j5iqps"
   },
   "source": [
    "We see that there are 150 examples in the dataset and each example has 4 features."
   ]
  },
  {
   "cell_type": "markdown",
   "metadata": {
    "id": "FatrY5JTnioC"
   },
   "source": [
    "### 2. Split data into train and test sets\n",
    "\n",
    "Next, we will randomly split the dataset into a train set and test set. We will use the function `train_test_split` in `sklearn` for the split. In the code below, the test set will contain 33% of the original data. We set the `random_state` parameter to get the same split every time."
   ]
  },
  {
   "cell_type": "code",
   "metadata": {
    "id": "zbtwRPK5i-fy"
   },
   "source": [
    "from sklearn.model_selection import train_test_split\n",
    "\n",
    "X_train, X_test, Y_train, Y_test = train_test_split(X, Y, test_size=0.33, random_state=42)\n",
    "\n",
    "# Print size of train and test sets to check\n",
    "print(X_train.shape, Y_train.shape)\n",
    "print(X_test.shape, Y_test.shape)\n",
    "\n",
    "# Print the labels in train and test sets to check that they are all random\n",
    "print(Y_train)\n",
    "print(Y_test)"
   ],
   "execution_count": 6,
   "outputs": [
    {
     "name": "stdout",
     "output_type": "stream",
     "text": [
      "(100, 4) (100,)\n",
      "(50, 4) (50,)\n",
      "[1 2 1 0 2 1 0 0 0 1 2 0 0 0 1 0 1 2 0 1 2 0 2 2 1 1 2 1 0 1 2 0 0 1 1 0 2\n",
      " 0 0 1 1 2 1 2 2 1 0 0 2 2 0 0 0 1 2 0 2 2 0 1 1 2 1 2 0 2 1 2 1 1 1 0 1 1\n",
      " 0 1 2 2 0 1 2 2 0 2 0 1 2 2 1 2 1 1 2 2 0 1 2 0 1 2]\n",
      "[1 0 2 1 1 0 1 2 1 1 2 0 0 0 0 1 2 1 1 2 0 2 0 2 2 2 2 2 0 0 0 0 1 0 0 2 1\n",
      " 0 0 0 2 1 1 0 0 1 2 2 1 2]\n"
     ]
    }
   ]
  },
  {
   "cell_type": "markdown",
   "metadata": {
    "id": "kUHjKhaSkdz5"
   },
   "source": [
    "### 3. Train a decision tree classifier on the train set\n",
    "\n",
    "Next, we train the decision tree classifier on the train set."
   ]
  },
  {
   "cell_type": "code",
   "metadata": {
    "id": "uNoYIFeBkl9f"
   },
   "source": [
    "from sklearn import tree\n",
    "\n",
    "model = tree.DecisionTreeClassifier()\n",
    "model = model.fit(X_train, Y_train)"
   ],
   "execution_count": 7,
   "outputs": []
  },
  {
   "cell_type": "markdown",
   "metadata": {
    "id": "yuUeEzHxk0I4"
   },
   "source": [
    "### 4. Visualize the trained tree\n",
    "\n",
    "The model has been trained, but we don't see anything. Let's plot it with `graphviz`."
   ]
  },
  {
   "cell_type": "code",
   "metadata": {
    "id": "zHyDd2T6k73n"
   },
   "source": [
    "import graphviz\n",
    "\n",
    "dot_data = tree.export_graphviz(model, out_file=None, \n",
    "                                feature_names=iris.feature_names,  \n",
    "                                class_names=iris.target_names, \n",
    "                                filled=True)\n",
    "graph = graphviz.Source(dot_data)\n",
    "graph"
   ],
   "execution_count": 9,
   "outputs": [
    {
     "ename": "ExecutableNotFound",
     "evalue": "failed to execute PosixPath('dot'), make sure the Graphviz executables are on your systems' PATH",
     "output_type": "error",
     "traceback": [
      "\u001B[0;31m---------------------------------------------------------------------------\u001B[0m",
      "\u001B[0;31mFileNotFoundError\u001B[0m                         Traceback (most recent call last)",
      "File \u001B[0;32m~/Library/Caches/pypoetry/virtualenvs/cap-5602-ai-nGwmg2tw-py3.10/lib/python3.10/site-packages/graphviz/backend/execute.py:79\u001B[0m, in \u001B[0;36mrun_check\u001B[0;34m(cmd, input_lines, encoding, quiet, **kwargs)\u001B[0m\n\u001B[1;32m     78\u001B[0m         kwargs[\u001B[38;5;124m'\u001B[39m\u001B[38;5;124mstdout\u001B[39m\u001B[38;5;124m'\u001B[39m] \u001B[38;5;241m=\u001B[39m kwargs[\u001B[38;5;124m'\u001B[39m\u001B[38;5;124mstderr\u001B[39m\u001B[38;5;124m'\u001B[39m] \u001B[38;5;241m=\u001B[39m subprocess\u001B[38;5;241m.\u001B[39mPIPE\n\u001B[0;32m---> 79\u001B[0m     proc \u001B[38;5;241m=\u001B[39m \u001B[43m_run_input_lines\u001B[49m\u001B[43m(\u001B[49m\u001B[43mcmd\u001B[49m\u001B[43m,\u001B[49m\u001B[43m \u001B[49m\u001B[43minput_lines\u001B[49m\u001B[43m,\u001B[49m\u001B[43m \u001B[49m\u001B[43mkwargs\u001B[49m\u001B[38;5;241;43m=\u001B[39;49m\u001B[43mkwargs\u001B[49m\u001B[43m)\u001B[49m\n\u001B[1;32m     80\u001B[0m \u001B[38;5;28;01melse\u001B[39;00m:\n",
      "File \u001B[0;32m~/Library/Caches/pypoetry/virtualenvs/cap-5602-ai-nGwmg2tw-py3.10/lib/python3.10/site-packages/graphviz/backend/execute.py:99\u001B[0m, in \u001B[0;36m_run_input_lines\u001B[0;34m(cmd, input_lines, kwargs)\u001B[0m\n\u001B[1;32m     98\u001B[0m \u001B[38;5;28;01mdef\u001B[39;00m \u001B[38;5;21m_run_input_lines\u001B[39m(cmd, input_lines, \u001B[38;5;241m*\u001B[39m, kwargs):\n\u001B[0;32m---> 99\u001B[0m     popen \u001B[38;5;241m=\u001B[39m \u001B[43msubprocess\u001B[49m\u001B[38;5;241;43m.\u001B[39;49m\u001B[43mPopen\u001B[49m\u001B[43m(\u001B[49m\u001B[43mcmd\u001B[49m\u001B[43m,\u001B[49m\u001B[43m \u001B[49m\u001B[43mstdin\u001B[49m\u001B[38;5;241;43m=\u001B[39;49m\u001B[43msubprocess\u001B[49m\u001B[38;5;241;43m.\u001B[39;49m\u001B[43mPIPE\u001B[49m\u001B[43m,\u001B[49m\u001B[43m \u001B[49m\u001B[38;5;241;43m*\u001B[39;49m\u001B[38;5;241;43m*\u001B[39;49m\u001B[43mkwargs\u001B[49m\u001B[43m)\u001B[49m\n\u001B[1;32m    101\u001B[0m     stdin_write \u001B[38;5;241m=\u001B[39m popen\u001B[38;5;241m.\u001B[39mstdin\u001B[38;5;241m.\u001B[39mwrite\n",
      "File \u001B[0;32m/usr/local/Cellar/python@3.10/3.10.6_2/Frameworks/Python.framework/Versions/3.10/lib/python3.10/subprocess.py:969\u001B[0m, in \u001B[0;36mPopen.__init__\u001B[0;34m(self, args, bufsize, executable, stdin, stdout, stderr, preexec_fn, close_fds, shell, cwd, env, universal_newlines, startupinfo, creationflags, restore_signals, start_new_session, pass_fds, user, group, extra_groups, encoding, errors, text, umask, pipesize)\u001B[0m\n\u001B[1;32m    966\u001B[0m             \u001B[38;5;28mself\u001B[39m\u001B[38;5;241m.\u001B[39mstderr \u001B[38;5;241m=\u001B[39m io\u001B[38;5;241m.\u001B[39mTextIOWrapper(\u001B[38;5;28mself\u001B[39m\u001B[38;5;241m.\u001B[39mstderr,\n\u001B[1;32m    967\u001B[0m                     encoding\u001B[38;5;241m=\u001B[39mencoding, errors\u001B[38;5;241m=\u001B[39merrors)\n\u001B[0;32m--> 969\u001B[0m     \u001B[38;5;28;43mself\u001B[39;49m\u001B[38;5;241;43m.\u001B[39;49m\u001B[43m_execute_child\u001B[49m\u001B[43m(\u001B[49m\u001B[43margs\u001B[49m\u001B[43m,\u001B[49m\u001B[43m \u001B[49m\u001B[43mexecutable\u001B[49m\u001B[43m,\u001B[49m\u001B[43m \u001B[49m\u001B[43mpreexec_fn\u001B[49m\u001B[43m,\u001B[49m\u001B[43m \u001B[49m\u001B[43mclose_fds\u001B[49m\u001B[43m,\u001B[49m\n\u001B[1;32m    970\u001B[0m \u001B[43m                        \u001B[49m\u001B[43mpass_fds\u001B[49m\u001B[43m,\u001B[49m\u001B[43m \u001B[49m\u001B[43mcwd\u001B[49m\u001B[43m,\u001B[49m\u001B[43m \u001B[49m\u001B[43menv\u001B[49m\u001B[43m,\u001B[49m\n\u001B[1;32m    971\u001B[0m \u001B[43m                        \u001B[49m\u001B[43mstartupinfo\u001B[49m\u001B[43m,\u001B[49m\u001B[43m \u001B[49m\u001B[43mcreationflags\u001B[49m\u001B[43m,\u001B[49m\u001B[43m \u001B[49m\u001B[43mshell\u001B[49m\u001B[43m,\u001B[49m\n\u001B[1;32m    972\u001B[0m \u001B[43m                        \u001B[49m\u001B[43mp2cread\u001B[49m\u001B[43m,\u001B[49m\u001B[43m \u001B[49m\u001B[43mp2cwrite\u001B[49m\u001B[43m,\u001B[49m\n\u001B[1;32m    973\u001B[0m \u001B[43m                        \u001B[49m\u001B[43mc2pread\u001B[49m\u001B[43m,\u001B[49m\u001B[43m \u001B[49m\u001B[43mc2pwrite\u001B[49m\u001B[43m,\u001B[49m\n\u001B[1;32m    974\u001B[0m \u001B[43m                        \u001B[49m\u001B[43merrread\u001B[49m\u001B[43m,\u001B[49m\u001B[43m \u001B[49m\u001B[43merrwrite\u001B[49m\u001B[43m,\u001B[49m\n\u001B[1;32m    975\u001B[0m \u001B[43m                        \u001B[49m\u001B[43mrestore_signals\u001B[49m\u001B[43m,\u001B[49m\n\u001B[1;32m    976\u001B[0m \u001B[43m                        \u001B[49m\u001B[43mgid\u001B[49m\u001B[43m,\u001B[49m\u001B[43m \u001B[49m\u001B[43mgids\u001B[49m\u001B[43m,\u001B[49m\u001B[43m \u001B[49m\u001B[43muid\u001B[49m\u001B[43m,\u001B[49m\u001B[43m \u001B[49m\u001B[43mumask\u001B[49m\u001B[43m,\u001B[49m\n\u001B[1;32m    977\u001B[0m \u001B[43m                        \u001B[49m\u001B[43mstart_new_session\u001B[49m\u001B[43m)\u001B[49m\n\u001B[1;32m    978\u001B[0m \u001B[38;5;28;01mexcept\u001B[39;00m:\n\u001B[1;32m    979\u001B[0m     \u001B[38;5;66;03m# Cleanup if the child failed starting.\u001B[39;00m\n",
      "File \u001B[0;32m/usr/local/Cellar/python@3.10/3.10.6_2/Frameworks/Python.framework/Versions/3.10/lib/python3.10/subprocess.py:1845\u001B[0m, in \u001B[0;36mPopen._execute_child\u001B[0;34m(self, args, executable, preexec_fn, close_fds, pass_fds, cwd, env, startupinfo, creationflags, shell, p2cread, p2cwrite, c2pread, c2pwrite, errread, errwrite, restore_signals, gid, gids, uid, umask, start_new_session)\u001B[0m\n\u001B[1;32m   1844\u001B[0m         err_msg \u001B[38;5;241m=\u001B[39m os\u001B[38;5;241m.\u001B[39mstrerror(errno_num)\n\u001B[0;32m-> 1845\u001B[0m     \u001B[38;5;28;01mraise\u001B[39;00m child_exception_type(errno_num, err_msg, err_filename)\n\u001B[1;32m   1846\u001B[0m \u001B[38;5;28;01mraise\u001B[39;00m child_exception_type(err_msg)\n",
      "\u001B[0;31mFileNotFoundError\u001B[0m: [Errno 2] No such file or directory: PosixPath('dot')",
      "\nThe above exception was the direct cause of the following exception:\n",
      "\u001B[0;31mExecutableNotFound\u001B[0m                        Traceback (most recent call last)",
      "File \u001B[0;32m~/Library/Caches/pypoetry/virtualenvs/cap-5602-ai-nGwmg2tw-py3.10/lib/python3.10/site-packages/IPython/core/formatters.py:973\u001B[0m, in \u001B[0;36mMimeBundleFormatter.__call__\u001B[0;34m(self, obj, include, exclude)\u001B[0m\n\u001B[1;32m    970\u001B[0m     method \u001B[38;5;241m=\u001B[39m get_real_method(obj, \u001B[38;5;28mself\u001B[39m\u001B[38;5;241m.\u001B[39mprint_method)\n\u001B[1;32m    972\u001B[0m     \u001B[38;5;28;01mif\u001B[39;00m method \u001B[38;5;129;01mis\u001B[39;00m \u001B[38;5;129;01mnot\u001B[39;00m \u001B[38;5;28;01mNone\u001B[39;00m:\n\u001B[0;32m--> 973\u001B[0m         \u001B[38;5;28;01mreturn\u001B[39;00m \u001B[43mmethod\u001B[49m\u001B[43m(\u001B[49m\u001B[43minclude\u001B[49m\u001B[38;5;241;43m=\u001B[39;49m\u001B[43minclude\u001B[49m\u001B[43m,\u001B[49m\u001B[43m \u001B[49m\u001B[43mexclude\u001B[49m\u001B[38;5;241;43m=\u001B[39;49m\u001B[43mexclude\u001B[49m\u001B[43m)\u001B[49m\n\u001B[1;32m    974\u001B[0m     \u001B[38;5;28;01mreturn\u001B[39;00m \u001B[38;5;28;01mNone\u001B[39;00m\n\u001B[1;32m    975\u001B[0m \u001B[38;5;28;01melse\u001B[39;00m:\n",
      "File \u001B[0;32m~/Library/Caches/pypoetry/virtualenvs/cap-5602-ai-nGwmg2tw-py3.10/lib/python3.10/site-packages/graphviz/jupyter_integration.py:98\u001B[0m, in \u001B[0;36mJupyterIntegration._repr_mimebundle_\u001B[0;34m(self, include, exclude, **_)\u001B[0m\n\u001B[1;32m     96\u001B[0m include \u001B[38;5;241m=\u001B[39m \u001B[38;5;28mset\u001B[39m(include) \u001B[38;5;28;01mif\u001B[39;00m include \u001B[38;5;129;01mis\u001B[39;00m \u001B[38;5;129;01mnot\u001B[39;00m \u001B[38;5;28;01mNone\u001B[39;00m \u001B[38;5;28;01melse\u001B[39;00m {\u001B[38;5;28mself\u001B[39m\u001B[38;5;241m.\u001B[39m_jupyter_mimetype}\n\u001B[1;32m     97\u001B[0m include \u001B[38;5;241m-\u001B[39m\u001B[38;5;241m=\u001B[39m \u001B[38;5;28mset\u001B[39m(exclude \u001B[38;5;129;01mor\u001B[39;00m [])\n\u001B[0;32m---> 98\u001B[0m \u001B[38;5;28;01mreturn\u001B[39;00m {mimetype: \u001B[38;5;28mgetattr\u001B[39m(\u001B[38;5;28mself\u001B[39m, method_name)()\n\u001B[1;32m     99\u001B[0m         \u001B[38;5;28;01mfor\u001B[39;00m mimetype, method_name \u001B[38;5;129;01min\u001B[39;00m MIME_TYPES\u001B[38;5;241m.\u001B[39mitems()\n\u001B[1;32m    100\u001B[0m         \u001B[38;5;28;01mif\u001B[39;00m mimetype \u001B[38;5;129;01min\u001B[39;00m include}\n",
      "File \u001B[0;32m~/Library/Caches/pypoetry/virtualenvs/cap-5602-ai-nGwmg2tw-py3.10/lib/python3.10/site-packages/graphviz/jupyter_integration.py:98\u001B[0m, in \u001B[0;36m<dictcomp>\u001B[0;34m(.0)\u001B[0m\n\u001B[1;32m     96\u001B[0m include \u001B[38;5;241m=\u001B[39m \u001B[38;5;28mset\u001B[39m(include) \u001B[38;5;28;01mif\u001B[39;00m include \u001B[38;5;129;01mis\u001B[39;00m \u001B[38;5;129;01mnot\u001B[39;00m \u001B[38;5;28;01mNone\u001B[39;00m \u001B[38;5;28;01melse\u001B[39;00m {\u001B[38;5;28mself\u001B[39m\u001B[38;5;241m.\u001B[39m_jupyter_mimetype}\n\u001B[1;32m     97\u001B[0m include \u001B[38;5;241m-\u001B[39m\u001B[38;5;241m=\u001B[39m \u001B[38;5;28mset\u001B[39m(exclude \u001B[38;5;129;01mor\u001B[39;00m [])\n\u001B[0;32m---> 98\u001B[0m \u001B[38;5;28;01mreturn\u001B[39;00m {mimetype: \u001B[38;5;28;43mgetattr\u001B[39;49m\u001B[43m(\u001B[49m\u001B[38;5;28;43mself\u001B[39;49m\u001B[43m,\u001B[49m\u001B[43m \u001B[49m\u001B[43mmethod_name\u001B[49m\u001B[43m)\u001B[49m\u001B[43m(\u001B[49m\u001B[43m)\u001B[49m\n\u001B[1;32m     99\u001B[0m         \u001B[38;5;28;01mfor\u001B[39;00m mimetype, method_name \u001B[38;5;129;01min\u001B[39;00m MIME_TYPES\u001B[38;5;241m.\u001B[39mitems()\n\u001B[1;32m    100\u001B[0m         \u001B[38;5;28;01mif\u001B[39;00m mimetype \u001B[38;5;129;01min\u001B[39;00m include}\n",
      "File \u001B[0;32m~/Library/Caches/pypoetry/virtualenvs/cap-5602-ai-nGwmg2tw-py3.10/lib/python3.10/site-packages/graphviz/jupyter_integration.py:112\u001B[0m, in \u001B[0;36mJupyterIntegration._repr_image_svg_xml\u001B[0;34m(self)\u001B[0m\n\u001B[1;32m    110\u001B[0m \u001B[38;5;28;01mdef\u001B[39;00m \u001B[38;5;21m_repr_image_svg_xml\u001B[39m(\u001B[38;5;28mself\u001B[39m) \u001B[38;5;241m-\u001B[39m\u001B[38;5;241m>\u001B[39m \u001B[38;5;28mstr\u001B[39m:\n\u001B[1;32m    111\u001B[0m     \u001B[38;5;124;03m\"\"\"Return the rendered graph as SVG string.\"\"\"\u001B[39;00m\n\u001B[0;32m--> 112\u001B[0m     \u001B[38;5;28;01mreturn\u001B[39;00m \u001B[38;5;28;43mself\u001B[39;49m\u001B[38;5;241;43m.\u001B[39;49m\u001B[43mpipe\u001B[49m\u001B[43m(\u001B[49m\u001B[38;5;28;43mformat\u001B[39;49m\u001B[38;5;241;43m=\u001B[39;49m\u001B[38;5;124;43m'\u001B[39;49m\u001B[38;5;124;43msvg\u001B[39;49m\u001B[38;5;124;43m'\u001B[39;49m\u001B[43m,\u001B[49m\u001B[43m \u001B[49m\u001B[43mencoding\u001B[49m\u001B[38;5;241;43m=\u001B[39;49m\u001B[43mSVG_ENCODING\u001B[49m\u001B[43m)\u001B[49m\n",
      "File \u001B[0;32m~/Library/Caches/pypoetry/virtualenvs/cap-5602-ai-nGwmg2tw-py3.10/lib/python3.10/site-packages/graphviz/piping.py:104\u001B[0m, in \u001B[0;36mPipe.pipe\u001B[0;34m(self, format, renderer, formatter, neato_no_op, quiet, engine, encoding)\u001B[0m\n\u001B[1;32m     55\u001B[0m \u001B[38;5;28;01mdef\u001B[39;00m \u001B[38;5;21mpipe\u001B[39m(\u001B[38;5;28mself\u001B[39m,\n\u001B[1;32m     56\u001B[0m          \u001B[38;5;28mformat\u001B[39m: typing\u001B[38;5;241m.\u001B[39mOptional[\u001B[38;5;28mstr\u001B[39m] \u001B[38;5;241m=\u001B[39m \u001B[38;5;28;01mNone\u001B[39;00m,\n\u001B[1;32m     57\u001B[0m          renderer: typing\u001B[38;5;241m.\u001B[39mOptional[\u001B[38;5;28mstr\u001B[39m] \u001B[38;5;241m=\u001B[39m \u001B[38;5;28;01mNone\u001B[39;00m,\n\u001B[0;32m   (...)\u001B[0m\n\u001B[1;32m     61\u001B[0m          engine: typing\u001B[38;5;241m.\u001B[39mOptional[\u001B[38;5;28mstr\u001B[39m] \u001B[38;5;241m=\u001B[39m \u001B[38;5;28;01mNone\u001B[39;00m,\n\u001B[1;32m     62\u001B[0m          encoding: typing\u001B[38;5;241m.\u001B[39mOptional[\u001B[38;5;28mstr\u001B[39m] \u001B[38;5;241m=\u001B[39m \u001B[38;5;28;01mNone\u001B[39;00m) \u001B[38;5;241m-\u001B[39m\u001B[38;5;241m>\u001B[39m typing\u001B[38;5;241m.\u001B[39mUnion[\u001B[38;5;28mbytes\u001B[39m, \u001B[38;5;28mstr\u001B[39m]:\n\u001B[1;32m     63\u001B[0m     \u001B[38;5;124;03m\"\"\"Return the source piped through the Graphviz layout command.\u001B[39;00m\n\u001B[1;32m     64\u001B[0m \n\u001B[1;32m     65\u001B[0m \u001B[38;5;124;03m    Args:\u001B[39;00m\n\u001B[0;32m   (...)\u001B[0m\n\u001B[1;32m    102\u001B[0m \u001B[38;5;124;03m        '<?xml version='\u001B[39;00m\n\u001B[1;32m    103\u001B[0m \u001B[38;5;124;03m    \"\"\"\u001B[39;00m\n\u001B[0;32m--> 104\u001B[0m     \u001B[38;5;28;01mreturn\u001B[39;00m \u001B[38;5;28;43mself\u001B[39;49m\u001B[38;5;241;43m.\u001B[39;49m\u001B[43m_pipe_legacy\u001B[49m\u001B[43m(\u001B[49m\u001B[38;5;28;43mformat\u001B[39;49m\u001B[43m,\u001B[49m\n\u001B[1;32m    105\u001B[0m \u001B[43m                             \u001B[49m\u001B[43mrenderer\u001B[49m\u001B[38;5;241;43m=\u001B[39;49m\u001B[43mrenderer\u001B[49m\u001B[43m,\u001B[49m\n\u001B[1;32m    106\u001B[0m \u001B[43m                             \u001B[49m\u001B[43mformatter\u001B[49m\u001B[38;5;241;43m=\u001B[39;49m\u001B[43mformatter\u001B[49m\u001B[43m,\u001B[49m\n\u001B[1;32m    107\u001B[0m \u001B[43m                             \u001B[49m\u001B[43mneato_no_op\u001B[49m\u001B[38;5;241;43m=\u001B[39;49m\u001B[43mneato_no_op\u001B[49m\u001B[43m,\u001B[49m\n\u001B[1;32m    108\u001B[0m \u001B[43m                             \u001B[49m\u001B[43mquiet\u001B[49m\u001B[38;5;241;43m=\u001B[39;49m\u001B[43mquiet\u001B[49m\u001B[43m,\u001B[49m\n\u001B[1;32m    109\u001B[0m \u001B[43m                             \u001B[49m\u001B[43mengine\u001B[49m\u001B[38;5;241;43m=\u001B[39;49m\u001B[43mengine\u001B[49m\u001B[43m,\u001B[49m\n\u001B[1;32m    110\u001B[0m \u001B[43m                             \u001B[49m\u001B[43mencoding\u001B[49m\u001B[38;5;241;43m=\u001B[39;49m\u001B[43mencoding\u001B[49m\u001B[43m)\u001B[49m\n",
      "File \u001B[0;32m~/Library/Caches/pypoetry/virtualenvs/cap-5602-ai-nGwmg2tw-py3.10/lib/python3.10/site-packages/graphviz/_tools.py:171\u001B[0m, in \u001B[0;36mdeprecate_positional_args.<locals>.decorator.<locals>.wrapper\u001B[0;34m(*args, **kwargs)\u001B[0m\n\u001B[1;32m    162\u001B[0m     wanted \u001B[38;5;241m=\u001B[39m \u001B[38;5;124m'\u001B[39m\u001B[38;5;124m, \u001B[39m\u001B[38;5;124m'\u001B[39m\u001B[38;5;241m.\u001B[39mjoin(\u001B[38;5;124mf\u001B[39m\u001B[38;5;124m'\u001B[39m\u001B[38;5;132;01m{\u001B[39;00mname\u001B[38;5;132;01m}\u001B[39;00m\u001B[38;5;124m=\u001B[39m\u001B[38;5;132;01m{\u001B[39;00mvalue\u001B[38;5;132;01m!r}\u001B[39;00m\u001B[38;5;124m'\u001B[39m\n\u001B[1;32m    163\u001B[0m                        \u001B[38;5;28;01mfor\u001B[39;00m name, value \u001B[38;5;129;01min\u001B[39;00m deprecated\u001B[38;5;241m.\u001B[39mitems())\n\u001B[1;32m    164\u001B[0m     warnings\u001B[38;5;241m.\u001B[39mwarn(\u001B[38;5;124mf\u001B[39m\u001B[38;5;124m'\u001B[39m\u001B[38;5;124mThe signature of \u001B[39m\u001B[38;5;132;01m{\u001B[39;00mfunc\u001B[38;5;241m.\u001B[39m\u001B[38;5;18m__name__\u001B[39m\u001B[38;5;132;01m}\u001B[39;00m\u001B[38;5;124m will be reduced\u001B[39m\u001B[38;5;124m'\u001B[39m\n\u001B[1;32m    165\u001B[0m                   \u001B[38;5;124mf\u001B[39m\u001B[38;5;124m'\u001B[39m\u001B[38;5;124m to \u001B[39m\u001B[38;5;132;01m{\u001B[39;00msupported_number\u001B[38;5;132;01m}\u001B[39;00m\u001B[38;5;124m positional args\u001B[39m\u001B[38;5;124m'\u001B[39m\n\u001B[1;32m    166\u001B[0m                   \u001B[38;5;124mf\u001B[39m\u001B[38;5;124m'\u001B[39m\u001B[38;5;124m \u001B[39m\u001B[38;5;132;01m{\u001B[39;00m\u001B[38;5;28mlist\u001B[39m(supported)\u001B[38;5;132;01m}\u001B[39;00m\u001B[38;5;124m: pass \u001B[39m\u001B[38;5;132;01m{\u001B[39;00mwanted\u001B[38;5;132;01m}\u001B[39;00m\u001B[38;5;124m'\u001B[39m\n\u001B[1;32m    167\u001B[0m                   \u001B[38;5;124m'\u001B[39m\u001B[38;5;124m as keyword arg(s)\u001B[39m\u001B[38;5;124m'\u001B[39m,\n\u001B[1;32m    168\u001B[0m                   stacklevel\u001B[38;5;241m=\u001B[39mstacklevel,\n\u001B[1;32m    169\u001B[0m                   category\u001B[38;5;241m=\u001B[39mcategory)\n\u001B[0;32m--> 171\u001B[0m \u001B[38;5;28;01mreturn\u001B[39;00m \u001B[43mfunc\u001B[49m\u001B[43m(\u001B[49m\u001B[38;5;241;43m*\u001B[39;49m\u001B[43margs\u001B[49m\u001B[43m,\u001B[49m\u001B[43m \u001B[49m\u001B[38;5;241;43m*\u001B[39;49m\u001B[38;5;241;43m*\u001B[39;49m\u001B[43mkwargs\u001B[49m\u001B[43m)\u001B[49m\n",
      "File \u001B[0;32m~/Library/Caches/pypoetry/virtualenvs/cap-5602-ai-nGwmg2tw-py3.10/lib/python3.10/site-packages/graphviz/piping.py:121\u001B[0m, in \u001B[0;36mPipe._pipe_legacy\u001B[0;34m(self, format, renderer, formatter, neato_no_op, quiet, engine, encoding)\u001B[0m\n\u001B[1;32m    112\u001B[0m \u001B[38;5;129m@_tools\u001B[39m\u001B[38;5;241m.\u001B[39mdeprecate_positional_args(supported_number\u001B[38;5;241m=\u001B[39m\u001B[38;5;241m2\u001B[39m)\n\u001B[1;32m    113\u001B[0m \u001B[38;5;28;01mdef\u001B[39;00m \u001B[38;5;21m_pipe_legacy\u001B[39m(\u001B[38;5;28mself\u001B[39m,\n\u001B[1;32m    114\u001B[0m                  \u001B[38;5;28mformat\u001B[39m: typing\u001B[38;5;241m.\u001B[39mOptional[\u001B[38;5;28mstr\u001B[39m] \u001B[38;5;241m=\u001B[39m \u001B[38;5;28;01mNone\u001B[39;00m,\n\u001B[0;32m   (...)\u001B[0m\n\u001B[1;32m    119\u001B[0m                  engine: typing\u001B[38;5;241m.\u001B[39mOptional[\u001B[38;5;28mstr\u001B[39m] \u001B[38;5;241m=\u001B[39m \u001B[38;5;28;01mNone\u001B[39;00m,\n\u001B[1;32m    120\u001B[0m                  encoding: typing\u001B[38;5;241m.\u001B[39mOptional[\u001B[38;5;28mstr\u001B[39m] \u001B[38;5;241m=\u001B[39m \u001B[38;5;28;01mNone\u001B[39;00m) \u001B[38;5;241m-\u001B[39m\u001B[38;5;241m>\u001B[39m typing\u001B[38;5;241m.\u001B[39mUnion[\u001B[38;5;28mbytes\u001B[39m, \u001B[38;5;28mstr\u001B[39m]:\n\u001B[0;32m--> 121\u001B[0m     \u001B[38;5;28;01mreturn\u001B[39;00m \u001B[38;5;28;43mself\u001B[39;49m\u001B[38;5;241;43m.\u001B[39;49m\u001B[43m_pipe_future\u001B[49m\u001B[43m(\u001B[49m\u001B[38;5;28;43mformat\u001B[39;49m\u001B[43m,\u001B[49m\n\u001B[1;32m    122\u001B[0m \u001B[43m                             \u001B[49m\u001B[43mrenderer\u001B[49m\u001B[38;5;241;43m=\u001B[39;49m\u001B[43mrenderer\u001B[49m\u001B[43m,\u001B[49m\n\u001B[1;32m    123\u001B[0m \u001B[43m                             \u001B[49m\u001B[43mformatter\u001B[49m\u001B[38;5;241;43m=\u001B[39;49m\u001B[43mformatter\u001B[49m\u001B[43m,\u001B[49m\n\u001B[1;32m    124\u001B[0m \u001B[43m                             \u001B[49m\u001B[43mneato_no_op\u001B[49m\u001B[38;5;241;43m=\u001B[39;49m\u001B[43mneato_no_op\u001B[49m\u001B[43m,\u001B[49m\n\u001B[1;32m    125\u001B[0m \u001B[43m                             \u001B[49m\u001B[43mquiet\u001B[49m\u001B[38;5;241;43m=\u001B[39;49m\u001B[43mquiet\u001B[49m\u001B[43m,\u001B[49m\n\u001B[1;32m    126\u001B[0m \u001B[43m                             \u001B[49m\u001B[43mengine\u001B[49m\u001B[38;5;241;43m=\u001B[39;49m\u001B[43mengine\u001B[49m\u001B[43m,\u001B[49m\n\u001B[1;32m    127\u001B[0m \u001B[43m                             \u001B[49m\u001B[43mencoding\u001B[49m\u001B[38;5;241;43m=\u001B[39;49m\u001B[43mencoding\u001B[49m\u001B[43m)\u001B[49m\n",
      "File \u001B[0;32m~/Library/Caches/pypoetry/virtualenvs/cap-5602-ai-nGwmg2tw-py3.10/lib/python3.10/site-packages/graphviz/piping.py:149\u001B[0m, in \u001B[0;36mPipe._pipe_future\u001B[0;34m(self, format, renderer, formatter, neato_no_op, quiet, engine, encoding)\u001B[0m\n\u001B[1;32m    146\u001B[0m \u001B[38;5;28;01mif\u001B[39;00m encoding \u001B[38;5;129;01mis\u001B[39;00m \u001B[38;5;129;01mnot\u001B[39;00m \u001B[38;5;28;01mNone\u001B[39;00m:\n\u001B[1;32m    147\u001B[0m     \u001B[38;5;28;01mif\u001B[39;00m codecs\u001B[38;5;241m.\u001B[39mlookup(encoding) \u001B[38;5;129;01mis\u001B[39;00m codecs\u001B[38;5;241m.\u001B[39mlookup(\u001B[38;5;28mself\u001B[39m\u001B[38;5;241m.\u001B[39mencoding):\n\u001B[1;32m    148\u001B[0m         \u001B[38;5;66;03m# common case: both stdin and stdout need the same encoding\u001B[39;00m\n\u001B[0;32m--> 149\u001B[0m         \u001B[38;5;28;01mreturn\u001B[39;00m \u001B[38;5;28;43mself\u001B[39;49m\u001B[38;5;241;43m.\u001B[39;49m\u001B[43m_pipe_lines_string\u001B[49m\u001B[43m(\u001B[49m\u001B[38;5;241;43m*\u001B[39;49m\u001B[43margs\u001B[49m\u001B[43m,\u001B[49m\u001B[43m \u001B[49m\u001B[43mencoding\u001B[49m\u001B[38;5;241;43m=\u001B[39;49m\u001B[43mencoding\u001B[49m\u001B[43m,\u001B[49m\u001B[43m \u001B[49m\u001B[38;5;241;43m*\u001B[39;49m\u001B[38;5;241;43m*\u001B[39;49m\u001B[43mkwargs\u001B[49m\u001B[43m)\u001B[49m\n\u001B[1;32m    150\u001B[0m     \u001B[38;5;28;01mtry\u001B[39;00m:\n\u001B[1;32m    151\u001B[0m         raw \u001B[38;5;241m=\u001B[39m \u001B[38;5;28mself\u001B[39m\u001B[38;5;241m.\u001B[39m_pipe_lines(\u001B[38;5;241m*\u001B[39margs, input_encoding\u001B[38;5;241m=\u001B[39m\u001B[38;5;28mself\u001B[39m\u001B[38;5;241m.\u001B[39mencoding, \u001B[38;5;241m*\u001B[39m\u001B[38;5;241m*\u001B[39mkwargs)\n",
      "File \u001B[0;32m~/Library/Caches/pypoetry/virtualenvs/cap-5602-ai-nGwmg2tw-py3.10/lib/python3.10/site-packages/graphviz/backend/piping.py:212\u001B[0m, in \u001B[0;36mpipe_lines_string\u001B[0;34m(engine, format, input_lines, encoding, renderer, formatter, neato_no_op, quiet)\u001B[0m\n\u001B[1;32m    206\u001B[0m cmd \u001B[38;5;241m=\u001B[39m dot_command\u001B[38;5;241m.\u001B[39mcommand(engine, \u001B[38;5;28mformat\u001B[39m,\n\u001B[1;32m    207\u001B[0m                           renderer\u001B[38;5;241m=\u001B[39mrenderer,\n\u001B[1;32m    208\u001B[0m                           formatter\u001B[38;5;241m=\u001B[39mformatter,\n\u001B[1;32m    209\u001B[0m                           neato_no_op\u001B[38;5;241m=\u001B[39mneato_no_op)\n\u001B[1;32m    210\u001B[0m kwargs \u001B[38;5;241m=\u001B[39m {\u001B[38;5;124m'\u001B[39m\u001B[38;5;124minput_lines\u001B[39m\u001B[38;5;124m'\u001B[39m: input_lines, \u001B[38;5;124m'\u001B[39m\u001B[38;5;124mencoding\u001B[39m\u001B[38;5;124m'\u001B[39m: encoding}\n\u001B[0;32m--> 212\u001B[0m proc \u001B[38;5;241m=\u001B[39m \u001B[43mexecute\u001B[49m\u001B[38;5;241;43m.\u001B[39;49m\u001B[43mrun_check\u001B[49m\u001B[43m(\u001B[49m\u001B[43mcmd\u001B[49m\u001B[43m,\u001B[49m\u001B[43m \u001B[49m\u001B[43mcapture_output\u001B[49m\u001B[38;5;241;43m=\u001B[39;49m\u001B[38;5;28;43;01mTrue\u001B[39;49;00m\u001B[43m,\u001B[49m\u001B[43m \u001B[49m\u001B[43mquiet\u001B[49m\u001B[38;5;241;43m=\u001B[39;49m\u001B[43mquiet\u001B[49m\u001B[43m,\u001B[49m\u001B[43m \u001B[49m\u001B[38;5;241;43m*\u001B[39;49m\u001B[38;5;241;43m*\u001B[39;49m\u001B[43mkwargs\u001B[49m\u001B[43m)\u001B[49m\n\u001B[1;32m    213\u001B[0m \u001B[38;5;28;01mreturn\u001B[39;00m proc\u001B[38;5;241m.\u001B[39mstdout\n",
      "File \u001B[0;32m~/Library/Caches/pypoetry/virtualenvs/cap-5602-ai-nGwmg2tw-py3.10/lib/python3.10/site-packages/graphviz/backend/execute.py:84\u001B[0m, in \u001B[0;36mrun_check\u001B[0;34m(cmd, input_lines, encoding, quiet, **kwargs)\u001B[0m\n\u001B[1;32m     82\u001B[0m \u001B[38;5;28;01mexcept\u001B[39;00m \u001B[38;5;167;01mOSError\u001B[39;00m \u001B[38;5;28;01mas\u001B[39;00m e:\n\u001B[1;32m     83\u001B[0m     \u001B[38;5;28;01mif\u001B[39;00m e\u001B[38;5;241m.\u001B[39merrno \u001B[38;5;241m==\u001B[39m errno\u001B[38;5;241m.\u001B[39mENOENT:\n\u001B[0;32m---> 84\u001B[0m         \u001B[38;5;28;01mraise\u001B[39;00m ExecutableNotFound(cmd) \u001B[38;5;28;01mfrom\u001B[39;00m \u001B[38;5;21;01me\u001B[39;00m\n\u001B[1;32m     85\u001B[0m     \u001B[38;5;28;01mraise\u001B[39;00m\n\u001B[1;32m     87\u001B[0m \u001B[38;5;28;01mif\u001B[39;00m \u001B[38;5;129;01mnot\u001B[39;00m quiet \u001B[38;5;129;01mand\u001B[39;00m proc\u001B[38;5;241m.\u001B[39mstderr:\n",
      "\u001B[0;31mExecutableNotFound\u001B[0m: failed to execute PosixPath('dot'), make sure the Graphviz executables are on your systems' PATH"
     ]
    },
    {
     "data": {
      "text/plain": "<graphviz.sources.Source at 0x133183040>"
     },
     "execution_count": 9,
     "metadata": {},
     "output_type": "execute_result"
    }
   ]
  },
  {
   "cell_type": "markdown",
   "metadata": {
    "id": "WirQ9gBxn9X0"
   },
   "source": [
    "### 5. Evaluate the tree on the test set\n",
    "\n",
    "We have trained our decision tree on the train set. Now we can use the tree to make prediction on the test set."
   ]
  },
  {
   "cell_type": "code",
   "metadata": {
    "id": "cTbps88poDJZ"
   },
   "source": [
    "Y_pred = model.predict(X_test)\n",
    "\n",
    "print(Y_pred)"
   ],
   "execution_count": null,
   "outputs": []
  },
  {
   "cell_type": "markdown",
   "metadata": {
    "id": "3A54V462oxjf"
   },
   "source": [
    "We can compute the accuracy between the predicted labels `Y_pred` and the true labels `Y_test`. To do this, we can use the function `accuracy_score` from `sklearn`."
   ]
  },
  {
   "cell_type": "code",
   "metadata": {
    "id": "VAvzpe40o7eD"
   },
   "source": [
    "from sklearn.metrics import accuracy_score\n",
    "\n",
    "acc = accuracy_score(Y_test, Y_pred)\n",
    "print('Accuracy on test set:', acc)"
   ],
   "execution_count": null,
   "outputs": []
  },
  {
   "cell_type": "markdown",
   "metadata": {
    "id": "cD3omhOTrumr"
   },
   "source": [
    "# Exercise:\n",
    "\n",
    "Try the regression example here: https://scikit-learn.org/stable/modules/tree.html#regression\n",
    "\n"
   ]
  }
 ]
}
