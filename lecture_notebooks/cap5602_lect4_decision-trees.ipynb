{
  "nbformat": 4,
  "nbformat_minor": 0,
  "metadata": {
    "colab": {
      "provenance": [],
      "collapsed_sections": []
    },
    "kernelspec": {
      "name": "python3",
      "display_name": "Python 3"
    },
    "language_info": {
      "name": "python"
    }
  },
  "cells": [
    {
      "cell_type": "markdown",
      "metadata": {
        "id": "hatOOkipow-O"
      },
      "source": [
        "# Decision Trees (CAP5602 Lecture 4)\n",
        "\n",
        "In this example, we will train a decision tree classifier on the Iris dataset."
      ]
    },
    {
      "cell_type": "markdown",
      "metadata": {
        "id": "xpg_kXOUnXBM"
      },
      "source": [
        "### 1. Load data\n",
        "\n",
        "First, we load the dataset from `sklearn` and print its feature names as well as the target names (labels)."
      ]
    },
    {
      "cell_type": "code",
      "metadata": {
        "id": "Fo1bouWtoa2A"
      },
      "source": [
        "from sklearn.datasets import load_iris\n",
        "\n",
        "iris = load_iris()\n",
        "\n",
        "print(iris.feature_names)\n",
        "print(iris.target_names)"
      ],
      "execution_count": null,
      "outputs": []
    },
    {
      "cell_type": "markdown",
      "metadata": {
        "id": "F1H3wLnKh8aV"
      },
      "source": [
        "This dataset has 4 features and 3 labels.\n",
        "\n",
        "Now we get the input matrix X and the label vector Y from the dataset:\n",
        "*   Each row of the matrix X is an example and each column corresponds to a feature.\n",
        "*   The label vector Y contains the labels of all examples.\n",
        "\n",
        "Let's print the sizes of the input matrix X and the label vector Y. Also, print the first 10 examples and labels."
      ]
    },
    {
      "cell_type": "code",
      "metadata": {
        "id": "hW49tKvHhUBZ"
      },
      "source": [
        "X, Y = iris.data, iris.target\n",
        "\n",
        "print(X.shape)\n",
        "print(Y.shape)\n",
        "\n",
        "# Print the first 10 examples\n",
        "print(X[:10])\n",
        "print(Y[:10])"
      ],
      "execution_count": null,
      "outputs": []
    },
    {
      "cell_type": "markdown",
      "metadata": {
        "id": "MjrlW1j5iqps"
      },
      "source": [
        "We see that there are 150 examples in the dataset and each example has 4 features."
      ]
    },
    {
      "cell_type": "markdown",
      "metadata": {
        "id": "FatrY5JTnioC"
      },
      "source": [
        "### 2. Split data into train and test sets\n",
        "\n",
        "Next, we will randomly split the dataset into a train set and test set. We will use the function `train_test_split` in `sklearn` for the split. In the code below, the test set will contain 33% of the original data. We set the `random_state` parameter to get the same split every time."
      ]
    },
    {
      "cell_type": "code",
      "metadata": {
        "id": "zbtwRPK5i-fy"
      },
      "source": [
        "from sklearn.model_selection import train_test_split\n",
        "\n",
        "X_train, X_test, Y_train, Y_test = train_test_split(X, Y, test_size=0.33, random_state=42)\n",
        "\n",
        "# Print size of train and test sets to check\n",
        "print(X_train.shape, Y_train.shape)\n",
        "print(X_test.shape, Y_test.shape)\n",
        "\n",
        "# Print the labels in train and test sets to check that they are all random\n",
        "print(Y_train)\n",
        "print(Y_test)"
      ],
      "execution_count": null,
      "outputs": []
    },
    {
      "cell_type": "markdown",
      "metadata": {
        "id": "kUHjKhaSkdz5"
      },
      "source": [
        "### 3. Train a decision tree classifier on the train set\n",
        "\n",
        "Next, we train the decision tree classifier on the train set."
      ]
    },
    {
      "cell_type": "code",
      "metadata": {
        "id": "uNoYIFeBkl9f"
      },
      "source": [
        "from sklearn import tree\n",
        "\n",
        "model = tree.DecisionTreeClassifier()\n",
        "model = model.fit(X_train, Y_train)"
      ],
      "execution_count": null,
      "outputs": []
    },
    {
      "cell_type": "markdown",
      "metadata": {
        "id": "yuUeEzHxk0I4"
      },
      "source": [
        "### 4. Visualize the trained tree\n",
        "\n",
        "The model has been trained, but we don't see anything. Let's plot it with `graphviz`."
      ]
    },
    {
      "cell_type": "code",
      "metadata": {
        "id": "zHyDd2T6k73n"
      },
      "source": [
        "import graphviz\n",
        "\n",
        "dot_data = tree.export_graphviz(model, out_file=None, \n",
        "                                feature_names=iris.feature_names,  \n",
        "                                class_names=iris.target_names, \n",
        "                                filled=True)\n",
        "graph = graphviz.Source(dot_data)\n",
        "graph"
      ],
      "execution_count": null,
      "outputs": []
    },
    {
      "cell_type": "markdown",
      "metadata": {
        "id": "WirQ9gBxn9X0"
      },
      "source": [
        "### 5. Evaluate the tree on the test set\n",
        "\n",
        "We have trained our decision tree on the train set. Now we can use the tree to make prediction on the test set."
      ]
    },
    {
      "cell_type": "code",
      "metadata": {
        "id": "cTbps88poDJZ"
      },
      "source": [
        "Y_pred = model.predict(X_test)\n",
        "\n",
        "print(Y_pred)"
      ],
      "execution_count": null,
      "outputs": []
    },
    {
      "cell_type": "markdown",
      "metadata": {
        "id": "3A54V462oxjf"
      },
      "source": [
        "We can compute the accuracy between the predicted labels `Y_pred` and the true labels `Y_test`. To do this, we can use the function `accuracy_score` from `sklearn`."
      ]
    },
    {
      "cell_type": "code",
      "metadata": {
        "id": "VAvzpe40o7eD"
      },
      "source": [
        "from sklearn.metrics import accuracy_score\n",
        "\n",
        "acc = accuracy_score(Y_test, Y_pred)\n",
        "print('Accuracy on test set:', acc)"
      ],
      "execution_count": null,
      "outputs": []
    },
    {
      "cell_type": "markdown",
      "metadata": {
        "id": "cD3omhOTrumr"
      },
      "source": [
        "# Exercise:\n",
        "\n",
        "Try the regression example here: https://scikit-learn.org/stable/modules/tree.html#regression\n",
        "\n"
      ]
    }
  ]
}