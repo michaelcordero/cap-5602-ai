{
 "nbformat": 4,
 "nbformat_minor": 0,
 "metadata": {
  "colab": {
   "name": "lect7-linear-regression.ipynb",
   "provenance": [],
   "collapsed_sections": []
  },
  "kernelspec": {
   "name": "python3",
   "display_name": "Python 3"
  },
  "language_info": {
   "name": "python"
  }
 },
 "cells": [
  {
   "cell_type": "markdown",
   "metadata": {
    "id": "63GSckRspoZJ",
    "pycharm": {
     "name": "#%% md\n"
    }
   },
   "source": [
    "# Linear regression (CAP5602 Lecture 7)\n",
    "\n",
    "In this demo, we will train and test linear regression on a toy linear dataset:\n",
    "$Y = aX + \\epsilon$, where $\\epsilon$ is Gaussian noise with zero mean and a given standard deviation. We can generate such a dataset with the [make_regression](https://scikit-learn.org/stable/modules/generated/sklearn.datasets.make_regression.html) function from sklearn."
   ]
  },
  {
   "cell_type": "markdown",
   "metadata": {
    "id": "h9MDqr8IxNuh",
    "pycharm": {
     "name": "#%% md\n"
    }
   },
   "source": [
    "### 1. Generate the toy dataset"
   ]
  },
  {
   "cell_type": "code",
   "metadata": {
    "id": "TVg4dhf0pl15",
    "pycharm": {
     "name": "#%%\n"
    }
   },
   "source": [
    "from sklearn.datasets import make_regression\n",
    "\n",
    "X, Y = make_regression(n_samples=100, n_features=1, noise=2.0)"
   ],
   "execution_count": null,
   "outputs": []
  },
  {
   "cell_type": "markdown",
   "metadata": {
    "id": "BtthSTNR5zcn",
    "pycharm": {
     "name": "#%% md\n"
    }
   },
   "source": [
    "### 2. Train/test split"
   ]
  },
  {
   "cell_type": "code",
   "metadata": {
    "id": "eW13wklJ532_",
    "pycharm": {
     "name": "#%%\n"
    }
   },
   "source": [
    "from sklearn.model_selection import train_test_split\n",
    "\n",
    "X_train, X_test, Y_train, Y_test = train_test_split(X, Y, test_size=0.2, random_state=42)\n",
    "\n",
    "print(X_train.shape, X_test.shape)"
   ],
   "execution_count": null,
   "outputs": []
  },
  {
   "cell_type": "markdown",
   "metadata": {
    "id": "fDeb80nf1btI",
    "pycharm": {
     "name": "#%% md\n"
    }
   },
   "source": [
    "### 2. Visualize dataset"
   ]
  },
  {
   "cell_type": "code",
   "metadata": {
    "id": "RxvUrMKOyZyY",
    "pycharm": {
     "name": "#%%\n"
    }
   },
   "source": [
    "import matplotlib.pyplot as plt\n",
    "\n",
    "plt.scatter(X_train, Y_train, color='black') # Plot train points with black color\n",
    "plt.scatter(X_test, Y_test, color='red') # Plot test points with red color\n",
    "plt.show() # Show the plot"
   ],
   "execution_count": null,
   "outputs": []
  },
  {
   "cell_type": "markdown",
   "metadata": {
    "id": "v5_wyZRu6CF_",
    "pycharm": {
     "name": "#%% md\n"
    }
   },
   "source": [
    "### 4. Train a linear regression model on the train set"
   ]
  },
  {
   "cell_type": "code",
   "metadata": {
    "id": "34kjAIGf6Ghn",
    "pycharm": {
     "name": "#%%\n"
    }
   },
   "source": [
    "from sklearn.linear_model import LinearRegression\n",
    "\n",
    "model = LinearRegression()\n",
    "model.fit(X_train, Y_train)"
   ],
   "execution_count": null,
   "outputs": []
  },
  {
   "cell_type": "markdown",
   "metadata": {
    "id": "oKY3G5F66ci_",
    "pycharm": {
     "name": "#%% md\n"
    }
   },
   "source": [
    "### 5. Evaluate the trained linear regression model on the test set"
   ]
  },
  {
   "cell_type": "code",
   "metadata": {
    "id": "RYHTLYBl6nzI",
    "pycharm": {
     "name": "#%%\n"
    }
   },
   "source": [
    "from sklearn.metrics import mean_squared_error\n",
    "\n",
    "Y_pred = model.predict(X_test)\n",
    "mse = mean_squared_error(Y_test, Y_pred)\n",
    "\n",
    "print(mse)"
   ],
   "execution_count": null,
   "outputs": []
  },
  {
   "cell_type": "markdown",
   "metadata": {
    "id": "IQKeoBGE6y3H",
    "pycharm": {
     "name": "#%% md\n"
    }
   },
   "source": [
    "### 6. Visualize the trained model"
   ]
  },
  {
   "cell_type": "code",
   "metadata": {
    "id": "3uTyR3wZ7Beo",
    "pycharm": {
     "name": "#%%\n"
    }
   },
   "source": [
    "import numpy as np\n",
    "import matplotlib.pyplot as plt\n",
    "\n",
    "# Generate 200 inputs evenly spaced in the input range and reshape them into a 200 x 1 matrix (each row is an example)\n",
    "xx = np.linspace(min(X), max(X), 200).reshape(-1, 1)\n",
    "\n",
    "# Make prediction on these inputs\n",
    "yy = model.predict(xx)\n",
    "\n",
    "# Plot a line connecting these points\n",
    "plt.plot(xx, yy, color='blue', label='prediction', linewidth=2)\n",
    "\n",
    "# Plot train points with black color\n",
    "plt.scatter(X_train, Y_train, color='black', label='train')\n",
    "\n",
    "# Plot test points with red color\n",
    "plt.scatter(X_test, Y_test, color='red', label='test')\n",
    "\n",
    "# Add the legend\n",
    "plt.legend()\n",
    "\n",
    "# Show the plot\n",
    "plt.show()"
   ],
   "execution_count": null,
   "outputs": []
  }
 ]
}