{
  "nbformat": 4,
  "nbformat_minor": 0,
  "metadata": {
    "colab": {
      "provenance": [],
      "collapsed_sections": []
    },
    "kernelspec": {
      "name": "python3",
      "display_name": "Python 3"
    },
    "language_info": {
      "name": "python"
    }
  },
  "cells": [
    {
      "cell_type": "markdown",
      "metadata": {
        "id": "63GSckRspoZJ"
      },
      "source": [
        "# Support Vector Machines (CAP5602 Lecture 6)\n",
        "\n",
        "In this demo, we will train and test SVMs on the Iris dataset.\n",
        "\n",
        "For illustration purpose, we will only use the sepal length and sepal width as features.\n",
        "\n",
        "The full version of this demo is available here: https://scikit-learn.org/stable/auto_examples/svm/plot_iris_svc.html"
      ]
    },
    {
      "cell_type": "markdown",
      "metadata": {
        "id": "h9MDqr8IxNuh"
      },
      "source": [
        "### 1. Load dataset"
      ]
    },
    {
      "cell_type": "code",
      "metadata": {
        "id": "TVg4dhf0pl15"
      },
      "source": [
        "from sklearn.datasets import load_iris\n",
        "\n",
        "iris = load_iris()\n",
        "X = iris.data[:, :2] # We restrict to the sepal features\n",
        "Y = iris.target\n",
        "\n",
        "# Print first 5 examples\n",
        "print(X[:5])\n",
        "print(Y[:5])"
      ],
      "execution_count": null,
      "outputs": []
    },
    {
      "cell_type": "markdown",
      "metadata": {
        "id": "fDeb80nf1btI"
      },
      "source": [
        "### 2. Visualize dataset\n",
        "\n",
        "Now we plot a scatter plot with one color for each class."
      ]
    },
    {
      "cell_type": "code",
      "metadata": {
        "id": "RxvUrMKOyZyY"
      },
      "source": [
        "import matplotlib.pyplot as plt\n",
        "\n",
        "plt.scatter(X[:, 0], X[:, 1], c=Y, cmap=plt.cm.coolwarm, s=100, edgecolors='k')\n",
        "plt.xlabel('Sepal length')\n",
        "plt.ylabel('Sepal width')\n",
        "plt.show()"
      ],
      "execution_count": null,
      "outputs": []
    },
    {
      "cell_type": "markdown",
      "metadata": {
        "id": "BtthSTNR5zcn"
      },
      "source": [
        "### 3. Train/test split"
      ]
    },
    {
      "cell_type": "code",
      "metadata": {
        "id": "eW13wklJ532_"
      },
      "source": [
        "from sklearn.model_selection import train_test_split\n",
        "\n",
        "X_train, X_test, Y_train, Y_test = train_test_split(X, Y, test_size=0.25, random_state=42)\n",
        "\n",
        "print(X_train.shape, X_test.shape)"
      ],
      "execution_count": null,
      "outputs": []
    },
    {
      "cell_type": "markdown",
      "metadata": {
        "id": "v5_wyZRu6CF_"
      },
      "source": [
        "### 4. Train an SVM classifier on the train set"
      ]
    },
    {
      "cell_type": "code",
      "metadata": {
        "id": "34kjAIGf6Ghn"
      },
      "source": [
        "from sklearn import svm\n",
        "\n",
        "C = 1.0\n",
        "model = svm.SVC(kernel='linear', C=C)\n",
        "# model = svm.SVC(kernel='rbf', gamma=0.7, C=C)\n",
        "# model = svm.SVC(kernel='poly', degree=4, gamma='auto', C=C)\n",
        "\n",
        "model.fit(X_train, Y_train)"
      ],
      "execution_count": null,
      "outputs": []
    },
    {
      "cell_type": "markdown",
      "metadata": {
        "id": "oKY3G5F66ci_"
      },
      "source": [
        "### 5. Evaluate the trained SVM on the test set"
      ]
    },
    {
      "cell_type": "code",
      "metadata": {
        "id": "RYHTLYBl6nzI"
      },
      "source": [
        "from sklearn.metrics import accuracy_score\n",
        "\n",
        "Y_pred = model.predict(X_test)\n",
        "acc = accuracy_score(Y_test, Y_pred)\n",
        "print('Accuracy on test set:', acc)"
      ],
      "execution_count": null,
      "outputs": []
    },
    {
      "cell_type": "markdown",
      "metadata": {
        "id": "IQKeoBGE6y3H"
      },
      "source": [
        "### 6. Visualize the trained SVM\n",
        "\n",
        "To visualize the decision boundary of a classifier with 2d inputs, we first need to create a [mesh grid](https://www.geeksforgeeks.org/numpy-meshgrid-function/) on the 2d space covering all inputs (from min to max values of each dimension)."
      ]
    },
    {
      "cell_type": "code",
      "metadata": {
        "id": "3uTyR3wZ7Beo"
      },
      "source": [
        "import numpy as np\n",
        "\n",
        "X0 = X[:, 0]    # Sepal length feature\n",
        "X1 = X[:, 1]    # Sepal width feature\n",
        "h = 0.02        # Stepsize for meshgrid\n",
        "\n",
        "# Find the range of the 2 dimensions that we will plot\n",
        "X0_min, X0_max = X0.min() - 1, X0.max() + 1\n",
        "X1_min, X1_max = X1.min() - 1, X1.max() + 1\n",
        "\n",
        "# Create a meshgrid\n",
        "xx, yy = np.meshgrid(np.arange(X0_min, X0_max, h),\n",
        "                     np.arange(X1_min, X1_max, h))\n",
        "\n",
        "print(xx)\n",
        "print(yy)"
      ],
      "execution_count": null,
      "outputs": []
    },
    {
      "cell_type": "markdown",
      "metadata": {
        "id": "g_r_O1MD7w7_"
      },
      "source": [
        "Next, we need to make a prediction with our SVM on every point on the grid."
      ]
    },
    {
      "cell_type": "code",
      "metadata": {
        "id": "mUl1ZA-hK4El"
      },
      "source": [
        "Z = model.predict(np.c_[xx.ravel(), yy.ravel()])\n",
        "Z = Z.reshape(xx.shape)\n",
        "\n",
        "print(Z)"
      ],
      "execution_count": null,
      "outputs": []
    },
    {
      "cell_type": "markdown",
      "metadata": {
        "id": "SAEED6sCK7T2"
      },
      "source": [
        "Finally, we plot the contour of the predictions together with all the data points."
      ]
    },
    {
      "cell_type": "code",
      "metadata": {
        "id": "qSC1_sBD7wWO"
      },
      "source": [
        "import matplotlib.pyplot as plt\n",
        "\n",
        "plt.contourf(xx, yy, Z, cmap=plt.cm.coolwarm, alpha=0.8)\n",
        "plt.scatter(X0, X1, c=Y, cmap=plt.cm.coolwarm, s=100, edgecolors='k')\n",
        "plt.xlabel('Sepal length')\n",
        "plt.ylabel('Sepal width')\n",
        "plt.show()"
      ],
      "execution_count": null,
      "outputs": []
    }
  ]
}