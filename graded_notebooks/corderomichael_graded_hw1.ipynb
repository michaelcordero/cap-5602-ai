{
  "nbformat": 4,
  "nbformat_minor": 0,
  "metadata": {
    "colab": {
      "provenance": [],
      "collapsed_sections": []
    },
    "kernelspec": {
      "name": "python3",
      "display_name": "Python 3"
    },
    "language_info": {
      "name": "python"
    }
  },
  "cells": [
    {
      "cell_type": "markdown",
      "metadata": {
        "id": "view-in-github"
      },
      "source": [
        "<a href=\"https://colab.research.google.com/github/michaelcordero/cap-5602-ai/blob/master/homework1.ipynb\" target=\"_parent\"><img src=\"https://colab.research.google.com/assets/colab-badge.svg\" alt=\"Open In Colab\"/></a>"
      ]
    },
    {
      "cell_type": "markdown",
      "metadata": {
        "id": "Qus7cy7B72R2"
      },
      "source": [
        "*   Student name: **[Michael Cordero]**\n",
        "*   Student Panther ID: **[6331927]** \n",
        "*   Collaborator(s): **[Aseem Sharma]**\n",
        "*   **Notice on Academic Misconduct**: Sharing your codes with other students is also an academic misconduct. If your submission is found unusually similar to that of another student, you will be reported to the SCAI as a potential academic misconduct case, regardless of your reasons. Violations may lead to suspension or expulsion from the university."
      ]
    },
    {
      "cell_type": "markdown",
      "metadata": {
        "id": "Q6bSH8zsrTrk"
      },
      "source": [
        "# CAP5602 Homework 1 (15% total grade)\n",
        "\n",
        "## **Deadline: 9/19/2022 11:59 PM**"
      ]
    },
    {
      "cell_type": "markdown",
      "metadata": {
        "id": "Tb2V0Ntcrgfz"
      },
      "source": [
        "## Question 1: Convert vector of real numbers to probabilities (4% total grade)\n",
        "\n",
        "Given a vector of real numbers $r = (r_1, r_2, ..., r_n)$. We can convert this vector into a probability vector $p = (p_1, p_2, ..., p_n)$ using the formulation: $ p_i = e^{r_i}/(\\sum_{i=1}^n e^{r_i})$, for all $i$.\n",
        "\n",
        "Write a Python function `vec_to_prob(r)` that takes the vector $r$ as input and returns the vector $p$. Both $r$ and $p$ will be numpy arrays. You can assume $r$ is non-empty.\n",
        "\n",
        "Sample inputs and outputs:\n",
        "*   **Input**: `np.array([4, 6])`, **output**: `[0.11920292, 0.88079708]`\n",
        "\n",
        "*   **Input**: `np.array([3.4, 6.2, 7.1, 9.8])`, **output**: `[0.00151576, 0.02492606, 0.06130823, 0.91224995]`"
      ]
    },
    {
      "cell_type": "code",
      "metadata": {
        "id": "Xr-KInTdwkzW"
      },
      "source": [
        "# Write your function here\n",
        "import math\n",
        "import numpy as np\n",
        "\n",
        "\n",
        "def vec_to_prob(r: np.array) -> np.array:\n",
        "   exp = np.exp(r)\n",
        "   p = exp / np.sum(exp)\n",
        "   return p"
      ],
      "execution_count": 1,
      "outputs": []
    },
    {
      "cell_type": "markdown",
      "metadata": {
        "id": "GG1_O9by0nxF"
      },
      "source": [
        "Let's test your function. "
      ]
    },
    {
      "cell_type": "code",
      "metadata": {
        "id": "5lwHlzo6dfnE",
        "colab": {
          "base_uri": "https://localhost:8080/"
        },
        "outputId": "aa57fdd1-5a3a-4cea-8f57-075efdb1014a"
      },
      "source": [
        "# Convert input from list to np.array first before calling your function to avoid errors\n",
        "print(vec_to_prob(np.array([4, 6])))\n",
        "print(vec_to_prob(np.array([3.4, 6.2, 7.1, 9.8])))\n",
        "print(vec_to_prob(np.array([3, 5.5, 0])))"
      ],
      "execution_count": 2,
      "outputs": [
        {
          "output_type": "stream",
          "name": "stdout",
          "text": [
            "[0.11920292 0.88079708]\n",
            "[0.00151576 0.02492606 0.06130823 0.91224995]\n",
            "[0.07557276 0.92066469 0.00376255]\n"
          ]
        }
      ]
    },
    {
      "cell_type": "markdown",
      "source": [
        "**Grader's comments:** Correct (4%)"
      ],
      "metadata": {
        "id": "HlspahMNzqmY"
      }
    },
    {
      "cell_type": "markdown",
      "metadata": {
        "id": "Dlf_qKgIwZI-"
      },
      "source": [
        "## Question 2: Convert matrix of real numbers to probabilities (6% total grade)\n",
        "\n",
        "Now we will extend Question 1 to matrices. Given a matrix of real numbers $R = (R_1, R_2, ..., R_m)$, where $R_i = (r_1, r_2, ..., r_n)$ is the i-th row of the matrix.\n",
        "\n",
        "### Question 2a (4% total grade):\n",
        "\n",
        "Write a Python function `mat_to_prob(R)` that returns the matrix $P = (P_1, P_2, ..., P_m)$ where $P_i$ is the i-th row of matrix $P$, and $P_i$ is the probability vector obtained from $R_i$ using the formulation in Question 1. In other words, convert each row of the input matrix into a probability vector.\n",
        "\n",
        "Sample inputs and outputs:\n",
        "*   **Input**: `np.array([[4, 6], [3.5, 9.1]])`\n",
        "\n",
        "    **Output**: `[[0.11920292, 0.88079708], [0.00368424, 0.99631576]]`\n",
        "\n",
        "*   **Input**: `np.array([[2, 3.1, 5], [10, 3.7, 12], [4, 5.5, 0]]))`\n",
        "\n",
        "    **Output**: `[[4.15115123e-02, 1.24707475e-01, 8.33781013e-01],\n",
        " [1.19176835e-01, 2.18844992e-04, 8.80604320e-01],\n",
        " [1.81818026e-01, 8.14851861e-01, 3.33011331e-03]]`"
      ]
    },
    {
      "cell_type": "code",
      "metadata": {
        "id": "EOcPVDCPdf1J"
      },
      "source": [
        "# Write your function here\n",
        "def mat_to_prob(R: np.array) -> np.array:\n",
        "    p: np.array = np.apply_along_axis(vec_to_prob, 1, R)\n",
        "    return p"
      ],
      "execution_count": 3,
      "outputs": []
    },
    {
      "cell_type": "markdown",
      "metadata": {
        "id": "PodH6LHB7wFG"
      },
      "source": [
        "Let's test your function. "
      ]
    },
    {
      "cell_type": "code",
      "metadata": {
        "id": "9Md-s6Pa82hD",
        "colab": {
          "base_uri": "https://localhost:8080/"
        },
        "outputId": "c1774e44-c385-4d1f-c46c-7f936aebb447"
      },
      "source": [
        "# Convert input from 2-d list to np.array first before calling your function\n",
        "\n",
        "print(mat_to_prob(np.array([[4, 6], [3.5, 9.1]])))\n",
        "print(mat_to_prob(np.array([[2, 3.1, 5], [10, 3.7, 12], [4, 5.5, 0]])))"
      ],
      "execution_count": 4,
      "outputs": [
        {
          "output_type": "stream",
          "name": "stdout",
          "text": [
            "[[0.11920292 0.88079708]\n",
            " [0.00368424 0.99631576]]\n",
            "[[4.15115123e-02 1.24707475e-01 8.33781013e-01]\n",
            " [1.19176835e-01 2.18844992e-04 8.80604320e-01]\n",
            " [1.81818026e-01 8.14851861e-01 3.33011331e-03]]\n"
          ]
        }
      ]
    },
    {
      "cell_type": "markdown",
      "source": [
        "**Grader's comments:** Correct (4%)"
      ],
      "metadata": {
        "id": "s47n4_9fzyvN"
      }
    },
    {
      "cell_type": "markdown",
      "metadata": {
        "id": "VCz0GvsYF6ab"
      },
      "source": [
        "### Question 2b (2% total grade):\n",
        "In fact, the function above is called the `softmax` function, and scipy has an implementation for it. First, read the API at: https://docs.scipy.org/doc/scipy/reference/generated/scipy.special.softmax.html.\n",
        "\n",
        "Then write code to apply this version of the `softmax` function on the sample matrices above and print out the results."
      ]
    },
    {
      "cell_type": "code",
      "metadata": {
        "id": "7lVz5PDKF7eC"
      },
      "source": [
        "# The function has been imported for you\n",
        "from scipy.special import softmax\n",
        "\n",
        "# Write your code here\n",
        "def scipy_mat_to_prob(R: np.array) -> np.array:\n",
        "    p: np.array = np.apply_over_axes(softmax, R, 1)\n",
        "    return p"
      ],
      "execution_count": 5,
      "outputs": []
    },
    {
      "cell_type": "markdown",
      "source": [
        "**Grader's comments:** There is no code to apply your function to the sample matrices and print out the results. (1%)"
      ],
      "metadata": {
        "id": "VMI2tOdUz1t1"
      }
    },
    {
      "cell_type": "markdown",
      "metadata": {
        "id": "7pr1Ci05tu43"
      },
      "source": [
        "## Question 3: Vector scaling (5% total grade)\n",
        "\n",
        "Given a vector of real numbers $r = (r_1, r_2, ..., r_n)$. We can standardize the vector using the formulation: $v_i = \\frac{r_i - m}{s}$, where $m$ is the mean of the vector $r$, and $s$ is the standard deviation of $r$. The vector $v = (v_1, v_2, ..., v_n)$ will be the scaled vector.\n",
        "\n",
        "Write a Python function `scale_vec(r)` that takes the vector $r$ as input and returns the scaled vector $v$.\n",
        "\n",
        "Sample inputs and outputs:\n",
        "*   **Input**: `np.array([1, 3, 5])`, **output**: `[-1.22474487, 0., 1.22474487]`\n",
        "*   **Input**: `np.array([3.3, 1.2, -2.7, -0.6])`, **output**: `[1.35457092, 0.40637128, -1.35457092, -0.40637128]`"
      ]
    },
    {
      "cell_type": "code",
      "metadata": {
        "id": "9wRha-1odloq"
      },
      "source": [
        "# Write your function here\n",
        "def scale_vec(r: np.array) -> np.array:\n",
        "    m = np.mean(r)\n",
        "    s = np.std(r)\n",
        "    q: np.array = (r - m) / s  # broadcasting\n",
        "    return q"
      ],
      "execution_count": 6,
      "outputs": []
    },
    {
      "cell_type": "markdown",
      "metadata": {
        "id": "85JtQYOhLf1V"
      },
      "source": [
        "Let's test your function."
      ]
    },
    {
      "cell_type": "code",
      "metadata": {
        "id": "09jWVlsJdlxO",
        "colab": {
          "base_uri": "https://localhost:8080/"
        },
        "outputId": "d3704eb1-d2fd-4c43-9f86-0fbb27651eb2"
      },
      "source": [
        "import numpy as np\n",
        "\n",
        "print(scale_vec(np.array([1, 3, 5])))\n",
        "print(scale_vec(np.array([3.3, 1.2, -2.7, -0.6])))"
      ],
      "execution_count": 7,
      "outputs": [
        {
          "output_type": "stream",
          "name": "stdout",
          "text": [
            "[-1.22474487  0.          1.22474487]\n",
            "[ 1.35457092  0.40637128 -1.35457092 -0.40637128]\n"
          ]
        }
      ]
    },
    {
      "cell_type": "markdown",
      "source": [
        "**Grader's comments:** Correct (5%)"
      ],
      "metadata": {
        "id": "6dZsc7cq0Yut"
      }
    }
  ]
}