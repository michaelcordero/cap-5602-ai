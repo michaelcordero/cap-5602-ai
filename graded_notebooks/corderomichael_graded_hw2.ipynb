{
 "cells": [
  {
   "cell_type": "markdown",
   "metadata": {
    "id": "Qus7cy7B72R2"
   },
   "source": [
    "*   Student name: **[Michael Cordero]**\n",
    "*   Student Panther ID: **[6331927]**\n",
    "*   Collaborator(s): **[Aseem Sharma, Carrie Cong]**\n",
    "*   **Notice on Academic Misconduct**: Sharing your codes with other students is also an academic misconduct. If your submission is found unsually similar to that of another student, you will be reported to the SCAI as a potential academic misconduct case, regardless of your reasons. Violations may lead to suspension or expulsion from the university."
   ]
  },
  {
   "cell_type": "markdown",
   "metadata": {
    "id": "Q6bSH8zsrTrk"
   },
   "source": [
    "# CAP5602 Homework 2 (15% total grade)\n",
    "\n",
    "## **Deadline: 10/3/2022 11:59 PM**\n",
    "\n",
    "In this homework, we will train, test, and visualize the K-NN and decision tree models on a simple 1d regression dataset."
   ]
  },
  {
   "cell_type": "markdown",
   "metadata": {
    "id": "go4K2HWl1Vua"
   },
   "source": [
    "## 1. Generate dataset (2% total grade)\n",
    "\n",
    "Write Python code to generate a regression dataset that contains 250 examples. In this dataset, each input $x$ is drawn uniformly random from (0, 2) and the corresponding output is $y = x^3 - 3x^2 + 2x + \\epsilon$, where $\\epsilon$ is Gaussian noise with zero mean and standard deviation 0.04.\n",
    "\n",
    "You don't need to define a function, but your code should create variables that contain all the inputs and outputs. You should also fix a random seed so that your results are reproducible."
   ]
  },
  {
   "cell_type": "code",
   "execution_count": 1,
   "metadata": {
    "id": "Xr-KInTdwkzW"
   },
   "outputs": [],
   "source": [
    "# Write your code here\n",
    "import numpy as np\n",
    "\n",
    "np.random.seed(0)\n",
    "n_samples = 250\n",
    "x = np.sort(2 * np.random.rand(n_samples, 1), axis=0)\n",
    "y = x**3 - 3*x**2 + 2*x + np.random.normal(loc=0, scale=0.04, size=(n_samples, 1))"
   ]
  },
  {
   "cell_type": "markdown",
   "metadata": {
    "id": "PZrpO2BWOJwv"
   },
   "source": [
    "**Grader's comments:** Correct (2%)"
   ]
  },
  {
   "cell_type": "markdown",
   "metadata": {
    "id": "BhNRQLgI5eqq"
   },
   "source": [
    "## 2. Split dataset into train/test sets (1% total grade)\n",
    "\n",
    "Write code to randomly split your dataset above into a train set and a test set. Your train set should contain 150 examples and your test set should contain 100 examples."
   ]
  },
  {
   "cell_type": "code",
   "execution_count": 2,
   "metadata": {
    "id": "n_00Sv3zmW1z"
   },
   "outputs": [],
   "source": [
    "# Write your code here\n",
    "from sklearn.model_selection import train_test_split\n",
    "X_train, X_test, Y_train, Y_test = train_test_split(x,y,test_size=100, train_size=150, random_state=42)"
   ]
  },
  {
   "cell_type": "markdown",
   "metadata": {
    "id": "PZrpO2BWOJwv"
   },
   "source": [
    "**Grader's comments:** Correct (1%)"
   ]
  },
  {
   "cell_type": "markdown",
   "metadata": {
    "id": "E-aQ5vGo9_0b"
   },
   "source": [
    "## 3. Define a K-NN model (1% total grade)\n",
    "\n",
    "Write code to define a K-NN regression model with K=5 and the neighbors are weighted by the inverse of their distance."
   ]
  },
  {
   "cell_type": "code",
   "execution_count": 3,
   "metadata": {
    "id": "nbPZnM9ArqgK"
   },
   "outputs": [],
   "source": [
    "# Write your code here\n",
    "from sklearn import neighbors\n",
    "n_neighbors = 5\n",
    "weight = 'distance'\n",
    "knn = neighbors.KNeighborsRegressor(n_neighbors, weights=weight)"
   ]
  },
  {
   "cell_type": "markdown",
   "metadata": {
    "id": "PZrpO2BWOJwv"
   },
   "source": [
    "**Grader's comments:** Correct (1%)"
   ]
  },
  {
   "cell_type": "markdown",
   "metadata": {
    "id": "to_Wxh-i_ytI"
   },
   "source": [
    "## 4. Train your K-NN model (1% total grade)\n",
    "\n",
    "Write code to train your K-NN model on your train set."
   ]
  },
  {
   "cell_type": "code",
   "execution_count": 4,
   "metadata": {
    "id": "ES0Kuqd_93_e"
   },
   "outputs": [
    {
     "data": {
      "text/plain": [
       "KNeighborsRegressor(weights='distance')"
      ]
     },
     "execution_count": 4,
     "metadata": {},
     "output_type": "execute_result"
    }
   ],
   "source": [
    "# Write your code here\n",
    "knn.fit(X_train,Y_train)"
   ]
  },
  {
   "cell_type": "markdown",
   "metadata": {
    "id": "PZrpO2BWOJwv"
   },
   "source": [
    "**Grader's comments:** Correct (1%)"
   ]
  },
  {
   "cell_type": "markdown",
   "metadata": {
    "id": "Cd2y0oup_442"
   },
   "source": [
    "## 5. Make prediction with your K-NN model (1% total grade)\n",
    "\n",
    "Write code to predict the outputs of your K-NN model on the test set."
   ]
  },
  {
   "cell_type": "code",
   "execution_count": 5,
   "metadata": {
    "id": "E3atYmwRrxzJ"
   },
   "outputs": [],
   "source": [
    "# Write your code here\n",
    "Y_prediction = knn.predict(X_test)"
   ]
  },
  {
   "cell_type": "markdown",
   "metadata": {
    "id": "PZrpO2BWOJwv"
   },
   "source": [
    "**Grader's comments:** Correct (1%)"
   ]
  },
  {
   "cell_type": "markdown",
   "metadata": {
    "id": "YGwE6g13AG7E"
   },
   "source": [
    "## 6. Compute the MSE (1% total grade)\n",
    "\n",
    "Write code to compute and print out the mean squared error (MSE) of your K-NN model on the test set"
   ]
  },
  {
   "cell_type": "code",
   "execution_count": 6,
   "metadata": {
    "id": "cRAdXhjor0As"
   },
   "outputs": [
    {
     "name": "stdout",
     "output_type": "stream",
     "text": [
      "0.001983013734945269\n"
     ]
    }
   ],
   "source": [
    "# Write your code here\n",
    "from sklearn.metrics import mean_squared_error\n",
    "\n",
    "mse = mean_squared_error(Y_test, Y_prediction)\n",
    "print(mse)"
   ]
  },
  {
   "cell_type": "markdown",
   "metadata": {
    "id": "PZrpO2BWOJwv"
   },
   "source": [
    "**Grader's comments:** Correct (1%)"
   ]
  },
  {
   "cell_type": "markdown",
   "metadata": {
    "id": "-v0cFZpYAk-H"
   },
   "source": [
    "## 7. Visualize your K-NN model (2% total grade)\n",
    "\n",
    "Write code to plot the predictions of your K-NN model on [0, 2]. You should generate 100 evenly-spaced points on [0, 2], use your K-NN model to predict their outputs, and plot them as a line graph. Your plot must also contain the train set, the test set, and the legend. Play with the settings to make your plot clear and readable."
   ]
  },
  {
   "cell_type": "code",
   "execution_count": 7,
   "metadata": {
    "id": "ug0oObjPr8YU"
   },
   "outputs": [
    {
     "data": {
      "image/png": "[encoded data removed]",
      "text/plain": [
       "<Figure size 432x288 with 1 Axes>"
      ]
     },
     "metadata": {
      "needs_background": "light"
     },
     "output_type": "display_data"
    }
   ],
   "source": [
    "# Write your code here\n",
    "import matplotlib.pyplot as plt\n",
    "# generate 100 points evenly spaced on the domain [0,2]\n",
    "xd = np.linspace(0,2,100).reshape(-1,1)\n",
    "# make prediction on the newly generated x-inputs\n",
    "yd= knn.predict(xd)\n",
    "# Plot a line connecting the points\n",
    "plt.plot(xd, yd, color=\"lime\", label=\"prediction\", linewidth=3)\n",
    "# Plot the training set\n",
    "plt.scatter(X_train, Y_train, color=\"r\", label=\"train\")\n",
    "# Plot the test set\n",
    "plt.scatter(X_test, Y_test, color=\"b\", label=\"test\")\n",
    "# Add legend\n",
    "plt.legend()\n",
    "# Show the plot\n",
    "plt.show()"
   ]
  },
  {
   "cell_type": "markdown",
   "metadata": {
    "id": "PZrpO2BWOJwv"
   },
   "source": [
    "**Grader's comments:** Correct (2%)"
   ]
  },
  {
   "cell_type": "markdown",
   "metadata": {
    "id": "1cCFNkzEECuL"
   },
   "source": [
    "## 8. Train and test a decision tree model (2% total grade)\n",
    "\n",
    "Write code to train a decision tree model on your train set above and then print out its MSE on the test set. Use sklearn's default setting for your model."
   ]
  },
  {
   "cell_type": "code",
   "execution_count": 8,
   "metadata": {
    "id": "lpvNZZNYsWeo"
   },
   "outputs": [
    {
     "name": "stdout",
     "output_type": "stream",
     "text": [
      "0.0023598813082206472\n"
     ]
    }
   ],
   "source": [
    "# Write your code here\n",
    "from sklearn import tree\n",
    "\n",
    "tree_model = tree.DecisionTreeRegressor()\n",
    "tree_model.fit(X_train, Y_train)\n",
    "TY_prediction = tree_model.predict(X_test)\n",
    "tree_mse = mean_squared_error(Y_test, TY_prediction)\n",
    "print(tree_mse)"
   ]
  },
  {
   "cell_type": "markdown",
   "metadata": {
    "id": "PZrpO2BWOJwv"
   },
   "source": [
    "**Grader's comments:** Correct (2%)"
   ]
  },
  {
   "cell_type": "markdown",
   "metadata": {
    "id": "ZZuxpBSUFCa8"
   },
   "source": [
    "## 9. Visualize your decision tree model (2% total grade)\n",
    "\n",
    "Repeat Question 7 with your trained decision tree model. Your code should generate a plot similar to that of Question 7. **Do not** plot the actual tree with graphviz."
   ]
  },
  {
   "cell_type": "code",
   "execution_count": 9,
   "metadata": {
    "id": "fUquAl7Lx5v-"
   },
   "outputs": [
    {
     "data": {
      "image/png": "[encoded data removed]",
      "text/plain": [
       "<Figure size 432x288 with 1 Axes>"
      ]
     },
     "metadata": {
      "needs_background": "light"
     },
     "output_type": "display_data"
    }
   ],
   "source": [
    "# Write your code here\n",
    "# generate 100 points evenly spaced on the domain [0,2]\n",
    "xt = np.linspace(0,2,100).reshape(-1,1)\n",
    "# make prediction on the newly generated x-inputs\n",
    "yt = tree_model.predict(xt)\n",
    "# plot a line connecting the points\n",
    "plt.plot(xt,yt, color=\"lime\", label=\"prediction\", linewidth=3)\n",
    "# Plot the training set\n",
    "plt.scatter(X_train, Y_train, color=\"y\", label=\"train\")\n",
    "# Plot the test set\n",
    "plt.scatter(X_test, Y_test,  color=\"b\", label=\"test\")\n",
    "# Add legend\n",
    "plt.legend()\n",
    "# Show the plot\n",
    "plt.show()"
   ]
  },
  {
   "cell_type": "markdown",
   "metadata": {
    "id": "PZrpO2BWOJwv"
   },
   "source": [
    "**Grader's comments:** Correct (2%)"
   ]
  },
  {
   "cell_type": "markdown",
   "metadata": {
    "id": "QyFqeu4cEnKc"
   },
   "source": [
    "## 10. Compare decision tree and K-NN (2% total grade)\n",
    "\n",
    "According to the above results, which model is better on your dataset (K-NN or decision tree)? Why?\n",
    "\n",
    "**Your answer**: KNN is the better model because it's mean squared error(MSE) is less than the Decision Tree's MSE."
   ]
  },
  {
   "cell_type": "markdown",
   "metadata": {
    "id": "PZrpO2BWOJwv"
   },
   "source": [
    "**Grader's comments:** Correct (2%)"
   ]
  }
 ],
 "metadata": {
  "colab": {
   "collapsed_sections": [],
   "provenance": []
  },
  "kernelspec": {
   "display_name": "Python 3 (ipykernel)",
   "language": "python",
   "name": "python3"
  },
  "language_info": {
   "codemirror_mode": {
    "name": "ipython",
    "version": 3
   },
   "file_extension": ".py",
   "mimetype": "text/x-python",
   "name": "python",
   "nbconvert_exporter": "python",
   "pygments_lexer": "ipython3",
   "version": "3.9.12"
  }
 },
 "nbformat": 4,
 "nbformat_minor": 4
}
