{
  "nbformat": 4,
  "nbformat_minor": 0,
  "metadata": {
    "colab": {
      "provenance": [],
      "collapsed_sections": []
    },
    "kernelspec": {
      "name": "python3",
      "display_name": "Python 3"
    },
    "language_info": {
      "name": "python"
    }
  },
  "cells": [
    {
      "cell_type": "markdown",
      "metadata": {
        "id": "63GSckRspoZJ"
      },
      "source": [
        "*   Student name: **[Fill your name here, double-click to edit]**\n",
        "*   Student Panther ID: **[Fill your Panther ID here]** \n",
        "*   Collaborator(s): **[Fill your collaborator(s)' name here]**\n",
        "*   **Notice on Academic Misconduct**: Sharing your codes with other students is also an academic misconduct. If your submission is found unsually similar to that of another student, you will be reported to the SCAI as a potential academic misconduct case, regardless of your reasons. Violations may lead to suspension or expulsion from the university."
      ]
    },
    {
      "cell_type": "markdown",
      "metadata": {
        "id": "LAOd-J7cm8UD"
      },
      "source": [
        "# CAP5602 Homework 4 (15% total grade)\n",
        "\n",
        "## **Deadline: 11/5/2022 11:59 PM**\n",
        "\n",
        "In this homework, we will train, test, and visualize logistic regression and multi-layer perceptron models on a toy non-linearly separable classification dataset.\n",
        "\n",
        "## 1. Generate and visualize the data (2% total grade)\n",
        "In this question, you will write code to generate and visualize the dataset. First, study the following API for the function `make_circles` to generate the dataset: https://scikit-learn.org/stable/modules/generated/sklearn.datasets.make_circles.html.\n",
        "\n",
        "Use this function to generate a dataset `(X, Y)` with **250 samples**, **noise=0.06**, and **factor=0.5**. Then plot the dataset using a scatter plot. For sanity check, your plot should show two noisy concentric circles (one for each class)."
      ]
    },
    {
      "cell_type": "code",
      "metadata": {
        "id": "p6Th8Pslojvn"
      },
      "source": [
        "# Write your code here"
      ],
      "execution_count": null,
      "outputs": []
    },
    {
      "cell_type": "markdown",
      "metadata": {
        "id": "RyGiQHTYwq5e"
      },
      "source": [
        "## 2. Split dataset (1% total grade)\n",
        "\n",
        "Write code to randomly split your dataset above into a train set and a test set. Your train set should contain 150 examples and your test set should contain 100 examples."
      ]
    },
    {
      "cell_type": "code",
      "metadata": {
        "id": "WBTjcWgPqTM_"
      },
      "source": [
        "# Write your code here"
      ],
      "execution_count": null,
      "outputs": []
    },
    {
      "cell_type": "markdown",
      "metadata": {
        "id": "7NOK5ofAw9AP"
      },
      "source": [
        "## 3. Train and evaluate a logistic regression model (2% total grade)\n",
        "\n",
        "Write code to train a [logistic regression](https://scikit-learn.org/stable/modules/generated/sklearn.linear_model.LogisticRegression.html) model with default parameters using your train set. Then compute and print out the accuracy of the model on your test set."
      ]
    },
    {
      "cell_type": "code",
      "metadata": {
        "id": "EIUrDjA5q2ij"
      },
      "source": [
        "# Write your code here"
      ],
      "execution_count": null,
      "outputs": []
    },
    {
      "cell_type": "markdown",
      "metadata": {
        "id": "fKmd-YMxy5e8"
      },
      "source": [
        "## 4. Visualize your model (3% total grade)\n",
        "\n",
        "Write code to visualize your logistic regression model. You must:\n",
        "1.   Create a meshgrid on the 2d space covering all your input data.\n",
        "2.   Make predictions on the meshgrid, reshape it appropriately, and plot the contours of the predictions together with all the data points. Since logistic regression can return label probability distributions, you must use [predict_proba](https://scikit-learn.org/stable/modules/generated/sklearn.linear_model.LogisticRegression.html#sklearn.linear_model.LogisticRegression.predict_proba) to make predictions and visualize the probability contours for one of the labels.\n",
        "\n",
        "**Important**: Since you will need to visualize several models later, you should write the above steps into a function `visualize(model, X, Y)` that can be applied to any model `model` and dataset `(X, Y)`. Then call this function to visualize your logistic regression model.\n",
        "\n",
        " \n"
      ]
    },
    {
      "cell_type": "code",
      "metadata": {
        "id": "pCJlp15HrAjH"
      },
      "source": [
        "# Write your code here"
      ],
      "execution_count": null,
      "outputs": []
    },
    {
      "cell_type": "markdown",
      "metadata": {
        "id": "2ViJZrlW6UXn"
      },
      "source": [
        "## 5. Train, evaluate, and visualize an MLP model on your dataset (3% total grade)\n",
        "\n",
        "Write code to:\n",
        "1. Train an MLP classifier with one hidden layer containing 20 hidden units. You can use the default value for other parameters of your model.\n",
        "2. Compute and print out the accuracy of your classifier on the test set.\n",
        "3. Visualize your MLP model similarly to Question 4 above, using the function `visualize(...)` that you already defined.\n",
        "\n",
        "**Important**: Again, to reuse your code later, combine the above steps into a single function `investigate_mlp(hidden_layer_sizes)`, where `hidden_layer_sizes` is the parameter specifying the number of hidden units in each layer. See the [MLPClassifier API](https://scikit-learn.org/stable/modules/generated/sklearn.neural_network.MLPClassifier.html) for details on this parameter. After writing this function, execute it with an appropriate `hidden_layer_sizes` value to train, evaluate, and visualize your model."
      ]
    },
    {
      "cell_type": "code",
      "metadata": {
        "id": "7aOwV2FnuMIz"
      },
      "source": [
        "# Write your code here"
      ],
      "execution_count": null,
      "outputs": []
    },
    {
      "cell_type": "markdown",
      "metadata": {
        "id": "G4KGFxLX-rVe"
      },
      "source": [
        "## 6. Investigate Deeper MLPs (2% total grade)\n",
        "\n",
        "Repeat Question 5 with **4 progressively deeper** MLP models that contain 2, 3, 4 and 5 hidden layers respectively. All layers in these models must also contain 20 hidden nodes. You can use your `investigate_mlp(...)` function for each model."
      ]
    },
    {
      "cell_type": "code",
      "metadata": {
        "id": "sz4_zlf1D54S"
      },
      "source": [
        "# Write your code here"
      ],
      "execution_count": null,
      "outputs": []
    },
    {
      "cell_type": "markdown",
      "metadata": {
        "id": "64xWCKlfFBmo"
      },
      "source": [
        "## 7. Comparing the models (2% total grade)\n",
        "\n",
        "What are your observations comparing all the models in this homework?\n",
        "\n",
        "**Your answer:** (double-click to edit)"
      ]
    }
  ]
}