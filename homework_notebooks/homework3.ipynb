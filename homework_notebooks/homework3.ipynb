{
  "nbformat": 4,
  "nbformat_minor": 0,
  "metadata": {
    "colab": {
      "provenance": [],
      "collapsed_sections": []
    },
    "kernelspec": {
      "name": "python3",
      "display_name": "Python 3"
    },
    "language_info": {
      "name": "python"
    }
  },
  "cells": [
    {
      "cell_type": "markdown",
      "metadata": {
        "id": "63GSckRspoZJ"
      },
      "source": [
        "*   Student name: **[Fill your name here, double-click to edit]**\n",
        "*   Student Panther ID: **[Fill your Panther ID here]** \n",
        "*   Collaborator(s): **[Fill your collaborator(s)' name here]**\n",
        "*   **Notice on Academic Misconduct**: Sharing your codes with other students is also an academic misconduct. If your submission is found unsually similar to that of another student, you will be reported to the SCAI as a potential academic misconduct case, regardless of your reasons. Violations may lead to suspension or expulsion from the university."
      ]
    },
    {
      "cell_type": "markdown",
      "metadata": {
        "id": "LAOd-J7cm8UD"
      },
      "source": [
        "# CAP5602 Homework 3 (15% total grade)\n",
        "\n",
        "## **Deadline: 10/19/2022 11:59 PM**\n",
        "\n",
        "In this homework, we will train, test, and visualize SVM models on a toy classification dataset. First, execute the code snippet below to generate the dataset."
      ]
    },
    {
      "cell_type": "code",
      "metadata": {
        "id": "p6Th8Pslojvn"
      },
      "source": [
        "from sklearn.datasets import make_moons\n",
        "\n",
        "# Generate the dataset with 300 examples\n",
        "X, Y = make_moons(n_samples=300, noise=.15, random_state=15)\n",
        "\n",
        "# Print shape of dataset for checking\n",
        "print('Input shape: ', X.shape)\n",
        "print('Output shape: ', Y.shape)"
      ],
      "execution_count": null,
      "outputs": []
    },
    {
      "cell_type": "markdown",
      "source": [
        "## 1. Visualize the dataset (1% total grade)\n",
        "\n",
        "Using `matplotlib` to plot and show a scatter plot with all the points in the dataset. Use a different color for each different class."
      ],
      "metadata": {
        "id": "SUPFGofpZhEh"
      }
    },
    {
      "cell_type": "code",
      "source": [
        "# Write your code here"
      ],
      "metadata": {
        "id": "GWTq7-oZZbSc"
      },
      "execution_count": null,
      "outputs": []
    },
    {
      "cell_type": "markdown",
      "metadata": {
        "id": "RyGiQHTYwq5e"
      },
      "source": [
        "## 2. Split dataset into train/test sets (1% total grade)\n",
        "\n",
        "Write code to randomly split your dataset above into a train set and a test set. Your train set must contain 200 examples and your test set must contain 100 examples."
      ]
    },
    {
      "cell_type": "code",
      "metadata": {
        "id": "WBTjcWgPqTM_"
      },
      "source": [
        "# Write your code here"
      ],
      "execution_count": null,
      "outputs": []
    },
    {
      "cell_type": "markdown",
      "metadata": {
        "id": "7NOK5ofAw9AP"
      },
      "source": [
        "## 3. Train a linear SVM (2% total grade)\n",
        "\n",
        "Write code to define an SVM with linear kernel and regularization **C=2.0**, then train it with your train set. Use the [SVC](https://scikit-learn.org/stable/modules/generated/sklearn.svm.SVC.html#sklearn.svm.SVC) class to define your model."
      ]
    },
    {
      "cell_type": "code",
      "metadata": {
        "id": "EIUrDjA5q2ij"
      },
      "source": [
        "# Write your code here"
      ],
      "execution_count": null,
      "outputs": []
    },
    {
      "cell_type": "markdown",
      "metadata": {
        "id": "F7EcwosYyVx1"
      },
      "source": [
        "## 4. Evaluate your linear SVM (2% total grade)\n",
        "\n",
        "Write code to predict the labels of the test set using your trained linear SVM above. Then compute and print out the test accuracy of your model."
      ]
    },
    {
      "cell_type": "code",
      "metadata": {
        "id": "pXRy5CPhq9Ei"
      },
      "source": [
        "# Write your code here"
      ],
      "execution_count": null,
      "outputs": []
    },
    {
      "cell_type": "markdown",
      "metadata": {
        "id": "fKmd-YMxy5e8"
      },
      "source": [
        "## 5. Visualize your model\n",
        "\n",
        "### 5a. Create a meshgrid on the 2-dimensional space covering the data (1% total grade)\n",
        "\n",
        "Write code to create a meshgrid on the 2d space covering $[min\\_x_i - 0.3, max\\_x_i + 0.3)$ for all dimensions (or features) of your input data. Here, $min\\_x_i$ is the minimum value of the $i^{th}$ feature over the entire dataset. Similarly, $max\\_x_i$ is the maximum value of the $i^{th}$ feature over the dataset. Use step size 0.01 for the meshgrid. Your code should define two variables `xx` and `yy` returned from the [numpy.meshgrid](https://numpy.org/doc/stable/reference/generated/numpy.meshgrid.html) function."
      ]
    },
    {
      "cell_type": "code",
      "metadata": {
        "id": "pCJlp15HrAjH"
      },
      "source": [
        "# Write your code here"
      ],
      "execution_count": null,
      "outputs": []
    },
    {
      "cell_type": "markdown",
      "metadata": {
        "id": "6sM-iBiS4RiJ"
      },
      "source": [
        "### 5b. Make predictions on the meshgrid (1% total grade)\n",
        "\n",
        "Use your model to make predictions on your meshgrid, then reshape your predictions to the shape of `xx`."
      ]
    },
    {
      "cell_type": "code",
      "metadata": {
        "id": "8jGzpTLtr9Pr"
      },
      "source": [
        "# Write your code here"
      ],
      "execution_count": null,
      "outputs": []
    },
    {
      "cell_type": "markdown",
      "metadata": {
        "id": "O3LUs_r84xlI"
      },
      "source": [
        "### 5c. Plot your model (1% total grade)\n",
        "\n",
        "Plot the contour of your predictions on the meshgrid (using [contourf](https://matplotlib.org/stable/api/_as_gen/matplotlib.pyplot.contourf.html)) together with the scatter plot showing the data points (with an appropriate color for each class)."
      ]
    },
    {
      "cell_type": "code",
      "metadata": {
        "id": "Zw59J6aY5Muk"
      },
      "source": [
        "# Write your code here"
      ],
      "execution_count": null,
      "outputs": []
    },
    {
      "cell_type": "markdown",
      "metadata": {
        "id": "2ViJZrlW6UXn"
      },
      "source": [
        "## 6. Experiment with RBF kernel SVM\n",
        "\n",
        "### 6a. Train an SVM with RBF kernel (2% total grade)\n",
        "\n",
        "Now, write code to define and train an SVM with an **RBF kernel and C=2.0** on the train set. You can use the default value for other parameters of your model."
      ]
    },
    {
      "cell_type": "code",
      "metadata": {
        "id": "7aOwV2FnuMIz"
      },
      "source": [
        "# Write your code here"
      ],
      "execution_count": null,
      "outputs": []
    },
    {
      "cell_type": "markdown",
      "metadata": {
        "id": "sCwtBNEJ_uyr"
      },
      "source": [
        "### 6b. Evaluate your RBF kernel SVM (1% total grade)\n",
        "\n",
        "Write code to compute and print out the accuracy of this RBF kernel SVM on your test set. "
      ]
    },
    {
      "cell_type": "code",
      "metadata": {
        "id": "pqjg8l4n_w3u"
      },
      "source": [
        "# Write your code here"
      ],
      "execution_count": null,
      "outputs": []
    },
    {
      "cell_type": "markdown",
      "metadata": {
        "id": "cwG3fZeL8LAQ"
      },
      "source": [
        "### 6c. Visualize your RBF kernel SVM (1% total grade)\n",
        "\n",
        "Similar to questions 5b and 5c above, visualize your RBF kernel SVM. You can re-use the meshgrid constructed in question 5a and don't need to reconstruct them. Your code must show the plot containing the contour and the data points."
      ]
    },
    {
      "cell_type": "code",
      "metadata": {
        "id": "7kh5vNm9suc9"
      },
      "source": [
        "# Write your code here"
      ],
      "execution_count": null,
      "outputs": []
    },
    {
      "cell_type": "markdown",
      "metadata": {
        "id": "G4KGFxLX-rVe"
      },
      "source": [
        "## 7. Comparing SVMs with different kernels (2% total grade)\n",
        "\n",
        "According to the above experiments, which model is better on this dataset? Why?\n",
        "\n",
        "**Your answer**: double-click to edit"
      ]
    }
  ]
}