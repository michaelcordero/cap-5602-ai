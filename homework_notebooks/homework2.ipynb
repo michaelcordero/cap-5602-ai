{
 "nbformat": 4,
 "nbformat_minor": 0,
 "metadata": {
  "colab": {
   "provenance": [],
   "collapsed_sections": []
  },
  "kernelspec": {
   "name": "python3",
   "display_name": "Python 3"
  },
  "language_info": {
   "name": "python"
  }
 },
 "cells": [
  {
   "cell_type": "markdown",
   "metadata": {
    "id": "Qus7cy7B72R2"
   },
   "source": [
    "*   Student name: **[Michael Cordero]**\n",
    "*   Student Panther ID: **[6331927]**\n",
    "*   Collaborator(s): **[N/A]**\n",
    "*   **Notice on Academic Misconduct**: Sharing your codes with other students is also an academic misconduct. If your submission is found unsually similar to that of another student, you will be reported to the SCAI as a potential academic misconduct case, regardless of your reasons. Violations may lead to suspension or expulsion from the university."
   ]
  },
  {
   "cell_type": "markdown",
   "metadata": {
    "id": "Q6bSH8zsrTrk"
   },
   "source": [
    "# CAP5602 Homework 2 (15% total grade)\n",
    "\n",
    "## **Deadline: 10/3/2022 11:59 PM**\n",
    "\n",
    "In this homework, we will train, test, and visualize the K-NN and decision tree models on a simple 1d regression dataset."
   ]
  },
  {
   "cell_type": "markdown",
   "metadata": {
    "id": "go4K2HWl1Vua"
   },
   "source": [
    "## 1. Generate dataset (2% total grade)\n",
    "\n",
    "Write Python code to generate a regression dataset that contains 250 examples. In this dataset, each input $x$ is drawn uniformly random from (0, 2) and the corresponding output is $y = x^3 - 3x^2 + 2x + \\epsilon$, where $\\epsilon$ is Gaussian noise with zero mean and standard deviation 0.04.\n",
    "\n",
    "You don't need to define a function, but your code should create variables that contain all the inputs and outputs. You should also fix a random seed so that your results are reproducible."
   ]
  },
  {
   "cell_type": "code",
   "metadata": {
    "id": "Xr-KInTdwkzW"
   },
   "source": [
    "# Write your code here\n",
    "import numpy as np\n",
    "\n",
    "np.random.seed(0)\n",
    "n_samples = 250\n",
    "x = np.sort(2 * np.random.rand(n_samples, 1), axis=0)\n",
    "noise = np.random.normal(loc=0, scale=0.4, size=(n_samples, 1))\n",
    "y = np.apply_along_axis(lambda i: sum(i**3 - 3*i**2 + 2*i + noise), axis=1, arr=x)"
   ],
   "execution_count": 135,
   "outputs": []
  },
  {
   "cell_type": "markdown",
   "metadata": {
    "id": "BhNRQLgI5eqq"
   },
   "source": [
    "## 2. Split dataset into train/test sets (1% total grade)\n",
    "\n",
    "Write code to randomly split your dataset above into a train set and a test set. Your train set should contain 150 examples and your test set should contain 100 examples."
   ]
  },
  {
   "cell_type": "code",
   "metadata": {
    "id": "n_00Sv3zmW1z"
   },
   "source": [
    "# Write your code here\n",
    "from sklearn.model_selection import train_test_split\n",
    "X_train, X_test, Y_train, Y_test = train_test_split(x,y,test_size=100, train_size=150, random_state=42)\n",
    "print(X_train.shape)\n",
    "print(Y_train.shape)"
   ],
   "execution_count": 136,
   "outputs": [
    {
     "name": "stdout",
     "output_type": "stream",
     "text": [
      "(150, 1)\n",
      "(150, 1)\n"
     ]
    }
   ]
  },
  {
   "cell_type": "markdown",
   "metadata": {
    "id": "E-aQ5vGo9_0b"
   },
   "source": [
    "## 3. Define a K-NN model (1% total grade)\n",
    "\n",
    "Write code to define a K-NN regression model with K=5 and the neighbors are weighted by the inverse of their distance."
   ]
  },
  {
   "cell_type": "code",
   "metadata": {
    "id": "nbPZnM9ArqgK"
   },
   "source": [
    "# Write your code here\n",
    "from sklearn import neighbors\n",
    "n_neighbors = 5\n",
    "weight = 'distance'\n",
    "knn = neighbors.KNeighborsRegressor(n_neighbors, weights=weight)"
   ],
   "execution_count": 137,
   "outputs": []
  },
  {
   "cell_type": "markdown",
   "metadata": {
    "id": "to_Wxh-i_ytI"
   },
   "source": [
    "## 4. Train your K-NN model (1% total grade)\n",
    "\n",
    "Write code to train your K-NN model on your train set."
   ]
  },
  {
   "cell_type": "code",
   "metadata": {
    "id": "ES0Kuqd_93_e"
   },
   "source": [
    "# Write your code here\n",
    "knn.fit(X_train,Y_train)"
   ],
   "execution_count": 138,
   "outputs": [
    {
     "data": {
      "text/plain": "KNeighborsRegressor(weights='distance')",
      "text/html": "<style>#sk-container-id-7 {color: black;background-color: white;}#sk-container-id-7 pre{padding: 0;}#sk-container-id-7 div.sk-toggleable {background-color: white;}#sk-container-id-7 label.sk-toggleable__label {cursor: pointer;display: block;width: 100%;margin-bottom: 0;padding: 0.3em;box-sizing: border-box;text-align: center;}#sk-container-id-7 label.sk-toggleable__label-arrow:before {content: \"▸\";float: left;margin-right: 0.25em;color: #696969;}#sk-container-id-7 label.sk-toggleable__label-arrow:hover:before {color: black;}#sk-container-id-7 div.sk-estimator:hover label.sk-toggleable__label-arrow:before {color: black;}#sk-container-id-7 div.sk-toggleable__content {max-height: 0;max-width: 0;overflow: hidden;text-align: left;background-color: #f0f8ff;}#sk-container-id-7 div.sk-toggleable__content pre {margin: 0.2em;color: black;border-radius: 0.25em;background-color: #f0f8ff;}#sk-container-id-7 input.sk-toggleable__control:checked~div.sk-toggleable__content {max-height: 200px;max-width: 100%;overflow: auto;}#sk-container-id-7 input.sk-toggleable__control:checked~label.sk-toggleable__label-arrow:before {content: \"▾\";}#sk-container-id-7 div.sk-estimator input.sk-toggleable__control:checked~label.sk-toggleable__label {background-color: #d4ebff;}#sk-container-id-7 div.sk-label input.sk-toggleable__control:checked~label.sk-toggleable__label {background-color: #d4ebff;}#sk-container-id-7 input.sk-hidden--visually {border: 0;clip: rect(1px 1px 1px 1px);clip: rect(1px, 1px, 1px, 1px);height: 1px;margin: -1px;overflow: hidden;padding: 0;position: absolute;width: 1px;}#sk-container-id-7 div.sk-estimator {font-family: monospace;background-color: #f0f8ff;border: 1px dotted black;border-radius: 0.25em;box-sizing: border-box;margin-bottom: 0.5em;}#sk-container-id-7 div.sk-estimator:hover {background-color: #d4ebff;}#sk-container-id-7 div.sk-parallel-item::after {content: \"\";width: 100%;border-bottom: 1px solid gray;flex-grow: 1;}#sk-container-id-7 div.sk-label:hover label.sk-toggleable__label {background-color: #d4ebff;}#sk-container-id-7 div.sk-serial::before {content: \"\";position: absolute;border-left: 1px solid gray;box-sizing: border-box;top: 0;bottom: 0;left: 50%;z-index: 0;}#sk-container-id-7 div.sk-serial {display: flex;flex-direction: column;align-items: center;background-color: white;padding-right: 0.2em;padding-left: 0.2em;position: relative;}#sk-container-id-7 div.sk-item {position: relative;z-index: 1;}#sk-container-id-7 div.sk-parallel {display: flex;align-items: stretch;justify-content: center;background-color: white;position: relative;}#sk-container-id-7 div.sk-item::before, #sk-container-id-7 div.sk-parallel-item::before {content: \"\";position: absolute;border-left: 1px solid gray;box-sizing: border-box;top: 0;bottom: 0;left: 50%;z-index: -1;}#sk-container-id-7 div.sk-parallel-item {display: flex;flex-direction: column;z-index: 1;position: relative;background-color: white;}#sk-container-id-7 div.sk-parallel-item:first-child::after {align-self: flex-end;width: 50%;}#sk-container-id-7 div.sk-parallel-item:last-child::after {align-self: flex-start;width: 50%;}#sk-container-id-7 div.sk-parallel-item:only-child::after {width: 0;}#sk-container-id-7 div.sk-dashed-wrapped {border: 1px dashed gray;margin: 0 0.4em 0.5em 0.4em;box-sizing: border-box;padding-bottom: 0.4em;background-color: white;}#sk-container-id-7 div.sk-label label {font-family: monospace;font-weight: bold;display: inline-block;line-height: 1.2em;}#sk-container-id-7 div.sk-label-container {text-align: center;}#sk-container-id-7 div.sk-container {/* jupyter's `normalize.less` sets `[hidden] { display: none; }` but bootstrap.min.css set `[hidden] { display: none !important; }` so we also need the `!important` here to be able to override the default hidden behavior on the sphinx rendered scikit-learn.org. See: https://github.com/scikit-learn/scikit-learn/issues/21755 */display: inline-block !important;position: relative;}#sk-container-id-7 div.sk-text-repr-fallback {display: none;}</style><div id=\"sk-container-id-7\" class=\"sk-top-container\"><div class=\"sk-text-repr-fallback\"><pre>KNeighborsRegressor(weights=&#x27;distance&#x27;)</pre><b>In a Jupyter environment, please rerun this cell to show the HTML representation or trust the notebook. <br />On GitHub, the HTML representation is unable to render, please try loading this page with nbviewer.org.</b></div><div class=\"sk-container\" hidden><div class=\"sk-item\"><div class=\"sk-estimator sk-toggleable\"><input class=\"sk-toggleable__control sk-hidden--visually\" id=\"sk-estimator-id-7\" type=\"checkbox\" checked><label for=\"sk-estimator-id-7\" class=\"sk-toggleable__label sk-toggleable__label-arrow\">KNeighborsRegressor</label><div class=\"sk-toggleable__content\"><pre>KNeighborsRegressor(weights=&#x27;distance&#x27;)</pre></div></div></div></div></div>"
     },
     "execution_count": 138,
     "metadata": {},
     "output_type": "execute_result"
    }
   ]
  },
  {
   "cell_type": "markdown",
   "metadata": {
    "id": "Cd2y0oup_442"
   },
   "source": [
    "## 5. Make prediction with your K-NN model (1% total grade)\n",
    "\n",
    "Write code to predict the outputs of your K-NN model on the test set."
   ]
  },
  {
   "cell_type": "code",
   "metadata": {
    "id": "E3atYmwRrxzJ"
   },
   "source": [
    "# Write your code here\n",
    "Y_prediction = knn.predict(X_test)"
   ],
   "execution_count": 149,
   "outputs": []
  },
  {
   "cell_type": "markdown",
   "metadata": {
    "id": "YGwE6g13AG7E"
   },
   "source": [
    "## 6. Compute the MSE (1% total grade)\n",
    "\n",
    "Write code to compute and print out the mean squared error (MSE) of your K-NN model on the test set"
   ]
  },
  {
   "cell_type": "code",
   "metadata": {
    "id": "cRAdXhjor0As"
   },
   "source": [
    "# Write your code here\n",
    "from sklearn.metrics import mean_squared_error\n",
    "\n",
    "mse = mean_squared_error(Y_test, Y_prediction)\n",
    "print(mse)"
   ],
   "execution_count": 150,
   "outputs": [
    {
     "name": "stdout",
     "output_type": "stream",
     "text": [
      "1.3687470013052794\n"
     ]
    }
   ]
  },
  {
   "cell_type": "markdown",
   "metadata": {
    "id": "-v0cFZpYAk-H"
   },
   "source": [
    "## 7. Visualize your K-NN model (2% total grade)\n",
    "\n",
    "Write code to plot the predictions of your K-NN model on [0, 2]. You should generate 100 evenly-spaced points on [0, 2], use your K-NN model to predict their outputs, and plot them as a line graph. Your plot must also contain the train set, the test set, and the legend. Play with the settings to make your plot clear and readable."
   ]
  },
  {
   "cell_type": "code",
   "metadata": {
    "id": "ug0oObjPr8YU"
   },
   "source": [
    "# Write your code here\n",
    "import matplotlib.pyplot as plt\n",
    "# generate 100 points evenly spaced on the domain [0,2]\n",
    "xd = np.linspace(0,2,100).reshape(-1,1)\n",
    "# make prediction on the newly generated x-inputs\n",
    "yd= knn.predict(xd)\n",
    "# Plot a line connecting the points\n",
    "plt.plot(xd, yd, color=\"g\", label=\"prediction\", linewidth=3)\n",
    "# Plot the training set\n",
    "plt.scatter(X_train, Y_train, vmin=0, vmax=100, color=\"r\", label=\"train\")\n",
    "# Plot the test set\n",
    "plt.scatter(X_test, Y_test, vmin=0, vmax=100, color=\"b\", label=\"test\")\n",
    "# Add legend\n",
    "plt.legend()\n",
    "# Show the plot\n",
    "plt.show()"
   ],
   "execution_count": 184,
   "outputs": [
    {
     "data": {
      "text/plain": "<Figure size 640x480 with 1 Axes>",
      "image/png": "[encoded data removed]"
     },
     "metadata": {},
     "output_type": "display_data"
    }
   ]
  },
  {
   "cell_type": "markdown",
   "metadata": {
    "id": "1cCFNkzEECuL"
   },
   "source": [
    "## 8. Train and test a decision tree model (2% total grade)\n",
    "\n",
    "Write code to train a decision tree model on your train set above and then print out its MSE on the test set. Use sklearn's default setting for your model."
   ]
  },
  {
   "cell_type": "code",
   "metadata": {
    "id": "lpvNZZNYsWeo"
   },
   "source": [
    "# Write your code here"
   ],
   "execution_count": 142,
   "outputs": []
  },
  {
   "cell_type": "markdown",
   "metadata": {
    "id": "ZZuxpBSUFCa8"
   },
   "source": [
    "## 9. Visualize your decision tree model (2% total grade)\n",
    "\n",
    "Repeat Question 7 with your trained decision tree model. Your code should generate a plot similar to that of Question 7. **Do not** plot the actual tree with graphviz."
   ]
  },
  {
   "cell_type": "code",
   "metadata": {
    "id": "fUquAl7Lx5v-"
   },
   "source": [
    "# Write your code here"
   ],
   "execution_count": 143,
   "outputs": []
  },
  {
   "cell_type": "markdown",
   "metadata": {
    "id": "QyFqeu4cEnKc"
   },
   "source": [
    "## 10. Compare decision tree and K-NN (2% total grade)\n",
    "\n",
    "According to the above results, which model is better on your dataset (K-NN or decision tree)? Why?\n",
    "\n",
    "**Your answer**: Double-click to edit"
   ]
  }
 ]
}
