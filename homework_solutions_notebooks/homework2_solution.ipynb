{
  "nbformat": 4,
  "nbformat_minor": 0,
  "metadata": {
    "colab": {
      "provenance": [],
      "collapsed_sections": []
    },
    "kernelspec": {
      "name": "python3",
      "display_name": "Python 3"
    },
    "language_info": {
      "name": "python"
    }
  },
  "cells": [
    {
      "cell_type": "markdown",
      "metadata": {
        "id": "Qus7cy7B72R2"
      },
      "source": [
        "*   Student name: **[Fill your name here, double-click to edit]**\n",
        "*   Student Panther ID: **[Fill your Panther ID here]** \n",
        "*   Collaborator(s): **[Fill your collaborator(s)' name here]**\n",
        "*   **Notice on Academic Misconduct**: Sharing your codes with other students is also an academic misconduct. If your submission is found unsually similar to that of another student, you will be reported to the SCAI as a potential academic misconduct case, regardless of your reasons. Violations may lead to suspension or expulsion from the university."
      ]
    },
    {
      "cell_type": "markdown",
      "metadata": {
        "id": "Q6bSH8zsrTrk"
      },
      "source": [
        "# CAP5602 Homework 2 (15% total grade)\n",
        "\n",
        "## **Deadline: 10/3/2022 11:59 PM**\n",
        "\n",
        "In this homework, we will train, test, and visualize the K-NN and decision tree models on a simple 1d regression dataset."
      ]
    },
    {
      "cell_type": "markdown",
      "metadata": {
        "id": "go4K2HWl1Vua"
      },
      "source": [
        "## 1. Generate dataset (2% total grade)\n",
        "\n",
        "Write Python code to generate a regression dataset that contains 250 examples. In this dataset, each input $x$ is drawn uniformly random from (0, 2) and the corresponding output is $y = x^3 - 3x^2 + 2x + \\epsilon$, where $\\epsilon$ is Gaussian noise with zero mean and standard deviation 0.04.\n",
        "\n",
        "You don't need to define a function, but your code should create variables that contain all the inputs and outputs. You should also fix a random seed so that your results are reproducible."
      ]
    },
    {
      "cell_type": "code",
      "metadata": {
        "id": "Xr-KInTdwkzW"
      },
      "source": [
        "import numpy as np\n",
        "\n",
        "rng = np.random.default_rng(12345)\n",
        "\n",
        "n_samples = 250\n",
        "X = rng.uniform(low=0.0, high=2.0, size=(n_samples, 1))\n",
        "Y = X**3 - 3*(X**2) + 2*X + rng.normal(scale=0.04, size=(n_samples, 1))"
      ],
      "execution_count": 1,
      "outputs": []
    },
    {
      "cell_type": "markdown",
      "metadata": {
        "id": "BhNRQLgI5eqq"
      },
      "source": [
        "## 2. Split dataset into train/test sets (1% total grade)\n",
        "\n",
        "Write code to randomly split your dataset above into a train set and a test set. Your train set should contain 150 examples and your test set should contain 100 examples."
      ]
    },
    {
      "cell_type": "code",
      "metadata": {
        "id": "n_00Sv3zmW1z"
      },
      "source": [
        "from sklearn.model_selection import train_test_split\n",
        "\n",
        "X_train, X_test, Y_train, Y_test = train_test_split(X, Y, test_size=100, random_state=42)"
      ],
      "execution_count": 2,
      "outputs": []
    },
    {
      "cell_type": "markdown",
      "metadata": {
        "id": "E-aQ5vGo9_0b"
      },
      "source": [
        "## 3. Define a K-NN model (1% total grade)\n",
        "\n",
        "Write code to define a K-NN regression model with K=5 and the neighbors are weighted by the inverse of their distance."
      ]
    },
    {
      "cell_type": "code",
      "metadata": {
        "id": "nbPZnM9ArqgK"
      },
      "source": [
        "from sklearn import neighbors\n",
        "\n",
        "knn = neighbors.KNeighborsRegressor(n_neighbors=5, weights='distance')"
      ],
      "execution_count": 3,
      "outputs": []
    },
    {
      "cell_type": "markdown",
      "metadata": {
        "id": "to_Wxh-i_ytI"
      },
      "source": [
        "## 4. Train your K-NN model (1% total grade)\n",
        "\n",
        "Write code to train your K-NN model on your train set."
      ]
    },
    {
      "cell_type": "code",
      "metadata": {
        "id": "ES0Kuqd_93_e",
        "colab": {
          "base_uri": "https://localhost:8080/"
        },
        "outputId": "13b8ba77-9e02-455a-be61-249f995dd605"
      },
      "source": [
        "knn.fit(X_train, Y_train)"
      ],
      "execution_count": 4,
      "outputs": [
        {
          "output_type": "execute_result",
          "data": {
            "text/plain": [
              "KNeighborsRegressor(weights='distance')"
            ]
          },
          "metadata": {},
          "execution_count": 4
        }
      ]
    },
    {
      "cell_type": "markdown",
      "metadata": {
        "id": "Cd2y0oup_442"
      },
      "source": [
        "## 5. Make prediction with your K-NN model (1% total grade)\n",
        "\n",
        "Write code to predict the outputs of your K-NN model on the test set."
      ]
    },
    {
      "cell_type": "code",
      "metadata": {
        "id": "E3atYmwRrxzJ"
      },
      "source": [
        "Y_pred = knn.predict(X_test)"
      ],
      "execution_count": 5,
      "outputs": []
    },
    {
      "cell_type": "markdown",
      "metadata": {
        "id": "YGwE6g13AG7E"
      },
      "source": [
        "## 6. Compute the MSE (1% total grade)\n",
        "\n",
        "Write code to compute and print out the mean squared error (MSE) of your K-NN model on the test set"
      ]
    },
    {
      "cell_type": "code",
      "metadata": {
        "id": "cRAdXhjor0As",
        "colab": {
          "base_uri": "https://localhost:8080/"
        },
        "outputId": "e5a10165-655e-4406-dfd0-983b8e4be787"
      },
      "source": [
        "from sklearn.metrics import mean_squared_error\n",
        "\n",
        "mse = mean_squared_error(Y_test, Y_pred)\n",
        "print(mse)"
      ],
      "execution_count": 6,
      "outputs": [
        {
          "output_type": "stream",
          "name": "stdout",
          "text": [
            "0.002668876689417005\n"
          ]
        }
      ]
    },
    {
      "cell_type": "markdown",
      "metadata": {
        "id": "-v0cFZpYAk-H"
      },
      "source": [
        "## 7. Visualize your K-NN model (2% total grade)\n",
        "\n",
        "Write code to plot the predictions of your K-NN model on [0, 2]. You should generate 100 evenly-spaced points on [0, 2], use your K-NN model to predict their outputs, and plot them as a line graph. Your plot must also contain the train set, the test set, and the legend. Play with the settings to make your plot clear and readable."
      ]
    },
    {
      "cell_type": "code",
      "metadata": {
        "id": "ug0oObjPr8YU",
        "colab": {
          "base_uri": "https://localhost:8080/",
          "height": 265
        },
        "outputId": "735674de-21c5-43a0-c3b1-0e68d827a6d8"
      },
      "source": [
        "import matplotlib.pyplot as plt\n",
        "\n",
        "xx = np.linspace(0, 2, 100).reshape(-1, 1)\n",
        "yy = knn.predict(xx)\n",
        "\n",
        "plt.plot(xx, yy, color='lime', label='prediction', linewidth=3)\n",
        "plt.scatter(X_train, Y_train, color='black', label='train')\n",
        "plt.scatter(X_test, Y_test, color='red', label='test')\n",
        "plt.legend()\n",
        "plt.show()"
      ],
      "execution_count": 7,
      "outputs": [
        {
          "output_type": "display_data",
          "data": {
            "text/plain": [
              "<Figure size 432x288 with 1 Axes>"
            ],
            "image/png": "[encoded data removed]"
          },
          "metadata": {
            "needs_background": "light"
          }
        }
      ]
    },
    {
      "cell_type": "markdown",
      "metadata": {
        "id": "1cCFNkzEECuL"
      },
      "source": [
        "## 8. Train and test a decision tree model (2% total grade)\n",
        "\n",
        "Write code to train a decision tree model on your train set above and then print out its MSE on the test set. Use sklearn's default setting for your model."
      ]
    },
    {
      "cell_type": "code",
      "metadata": {
        "id": "lpvNZZNYsWeo",
        "colab": {
          "base_uri": "https://localhost:8080/"
        },
        "outputId": "a244303f-7533-4495-f922-56b1379d88df"
      },
      "source": [
        "from sklearn import tree\n",
        "\n",
        "dtree = tree.DecisionTreeRegressor()\n",
        "dtree.fit(X_train, Y_train)\n",
        "Y_pred = dtree.predict(X_test)\n",
        "mse = mean_squared_error(Y_test, Y_pred)\n",
        "print(mse)"
      ],
      "execution_count": 8,
      "outputs": [
        {
          "output_type": "stream",
          "name": "stdout",
          "text": [
            "0.003479541419589897\n"
          ]
        }
      ]
    },
    {
      "cell_type": "markdown",
      "metadata": {
        "id": "ZZuxpBSUFCa8"
      },
      "source": [
        "## 9. Visualize your decision tree model (2% total grade)\n",
        "\n",
        "Repeat Question 7 with your trained decision tree model. Your code should generate a plot similar to that of Question 7. **Do not** plot the actual tree with graphviz."
      ]
    },
    {
      "cell_type": "code",
      "metadata": {
        "id": "fUquAl7Lx5v-",
        "colab": {
          "base_uri": "https://localhost:8080/",
          "height": 265
        },
        "outputId": "26091565-ee33-462c-db01-b07cb51ae772"
      },
      "source": [
        "xx = np.linspace(0, 2, 100).reshape(-1, 1)\n",
        "yy = dtree.predict(xx)\n",
        "\n",
        "plt.plot(xx, yy, color='lime', label='prediction', linewidth=3)\n",
        "plt.scatter(X_train, Y_train, color='black', label='train')\n",
        "plt.scatter(X_test, Y_test, color='red', label='test')\n",
        "plt.legend()\n",
        "plt.show()"
      ],
      "execution_count": 9,
      "outputs": [
        {
          "output_type": "display_data",
          "data": {
            "text/plain": [
              "<Figure size 432x288 with 1 Axes>"
            ],
            "image/png": "[encoded data removed]"
          },
          "metadata": {
            "needs_background": "light"
          }
        }
      ]
    },
    {
      "cell_type": "markdown",
      "metadata": {
        "id": "QyFqeu4cEnKc"
      },
      "source": [
        "## 10. Compare decision tree and K-NN (2% total grade)\n",
        "\n",
        "According to the above results, which model is better on your dataset (K-NN or decision tree)? Why?\n",
        "\n",
        "**Your answer**: KNN is better because it has lower MSE. Additionally, its curve in the visualization is smoother (and thus less overfitting) than that of the decision tree."
      ]
    }
  ]
}