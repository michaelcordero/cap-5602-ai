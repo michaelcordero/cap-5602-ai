{
  "nbformat": 4,
  "nbformat_minor": 0,
  "metadata": {
    "colab": {
      "provenance": [],
      "collapsed_sections": []
    },
    "kernelspec": {
      "name": "python3",
      "display_name": "Python 3"
    },
    "language_info": {
      "name": "python"
    }
  },
  "cells": [
    {
      "cell_type": "markdown",
      "metadata": {
        "id": "Qus7cy7B72R2"
      },
      "source": [
        "*   Student name: **[Fill your name here, double-click to edit]**\n",
        "*   Student Panther ID: **[Fill your Panther ID here]** \n",
        "*   Collaborator(s): **[Fill your collaborator(s)' name here]**\n",
        "*   **Notice on Academic Misconduct**: Sharing your codes with other students is also an academic misconduct. If your submission is found unsually similar to that of another student, you will be reported to the SCAI as a potential academic misconduct case, regardless of your reasons. Violations may lead to suspension or expulsion from the university."
      ]
    },
    {
      "cell_type": "markdown",
      "metadata": {
        "id": "Q6bSH8zsrTrk"
      },
      "source": [
        "# CAP5602 Homework 1 (15% total grade)\n",
        "\n",
        "## **Deadline: 9/19/2022 11:59 PM**"
      ]
    },
    {
      "cell_type": "markdown",
      "metadata": {
        "id": "Tb2V0Ntcrgfz"
      },
      "source": [
        "## Question 1: Convert vector of real numbers to probabilities (4% total grade)\n",
        "\n",
        "Given a vector of real numbers $r = (r_1, r_2, ..., r_n)$. We can convert this vector into a probability vector $p = (p_1, p_2, ..., p_n)$ using the formulation: $ p_i = e^{r_i}/(\\sum_{i=1}^n e^{r_i})$, for all $i$.\n",
        "\n",
        "Write a Python function `vec_to_prob(r)` that takes the vector $r$ as input and returns the vector $p$. Both $r$ and $p$ will be numpy arrays. You can assume $r$ is non-empty.\n",
        "\n",
        "Sample inputs and outputs:\n",
        "*   **Input**: `np.array([4, 6])`, **output**: `[0.11920292, 0.88079708]`\n",
        "\n",
        "*   **Input**: `np.array([3.4, 6.2, 7.1, 9.8])`, **output**: `[0.00151576, 0.02492606, 0.06130823, 0.91224995]`"
      ]
    },
    {
      "cell_type": "code",
      "metadata": {
        "id": "Xr-KInTdwkzW"
      },
      "source": [
        "import numpy as np  # numpy has been imported for you\n",
        "\n",
        "def vec_to_prob(r):\n",
        "    # Complete your function here\n",
        "    return np.exp(r) / np.sum(np.exp(r))"
      ],
      "execution_count": null,
      "outputs": []
    },
    {
      "cell_type": "markdown",
      "metadata": {
        "id": "GG1_O9by0nxF"
      },
      "source": [
        "Let's test your function. "
      ]
    },
    {
      "cell_type": "code",
      "metadata": {
        "id": "5lwHlzo6dfnE"
      },
      "source": [
        "# Convert input from list to np.array first before calling your function to avoid errors\n",
        "print(vec_to_prob(np.array([4, 6])))\n",
        "print(vec_to_prob(np.array([3.4, 6.2, 7.1, 9.8])))\n",
        "print(vec_to_prob(np.array([3, 5.5, 0])))"
      ],
      "execution_count": null,
      "outputs": []
    },
    {
      "cell_type": "markdown",
      "metadata": {
        "id": "Dlf_qKgIwZI-"
      },
      "source": [
        "## Question 2: Convert matrix of real numbers to probabilities (6% total grade)\n",
        "\n",
        "Now we will extend Question 1 to matrices. Given a matrix of real numbers $R = (R_1, R_2, ..., R_m)$, where $R_i = (r_1, r_2, ..., r_n)$ is the i-th row of the matrix.\n",
        "\n",
        "### Question 2a (4% total grade):\n",
        "\n",
        "Write a Python function `mat_to_prob(R)` that returns the matrix $P = (P_1, P_2, ..., P_m)$ where $P_i$ is the i-th row of matrix $P$, and $P_i$ is the probability vector obtained from $R_i$ using the formulation in Question 1. In other words, convert each row of the input matrix into a probability vector.\n",
        "\n",
        "Sample inputs and outputs:\n",
        "*   **Input**: `np.array([[4, 6], [3.5, 9.1]])`\n",
        "\n",
        "    **Output**: `[[0.11920292, 0.88079708], [0.00368424, 0.99631576]]`\n",
        "\n",
        "*   **Input**: `np.array([[2, 3.1, 5], [10, 3.7, 12], [4, 5.5, 0]]))`\n",
        "\n",
        "    **Output**: `[[4.15115123e-02, 1.24707475e-01, 8.33781013e-01],\n",
        " [1.19176835e-01, 2.18844992e-04, 8.80604320e-01],\n",
        " [1.81818026e-01, 8.14851861e-01, 3.33011331e-03]]`"
      ]
    },
    {
      "cell_type": "code",
      "metadata": {
        "id": "EOcPVDCPdf1J"
      },
      "source": [
        "import numpy as np\n",
        "\n",
        "def mat_to_prob(R):\n",
        "    # Complete your function here\n",
        "    return np.exp(R)/np.sum(np.exp(R), axis=1, keepdims=True)"
      ],
      "execution_count": null,
      "outputs": []
    },
    {
      "cell_type": "markdown",
      "metadata": {
        "id": "PodH6LHB7wFG"
      },
      "source": [
        "Let's test your function. "
      ]
    },
    {
      "cell_type": "code",
      "metadata": {
        "id": "9Md-s6Pa82hD"
      },
      "source": [
        "# Convert input from 2-d list to np.array first before calling your function\n",
        "\n",
        "print(mat_to_prob(np.array([[4, 6], [3.5, 9.1]])))\n",
        "print(mat_to_prob(np.array([[2, 3.1, 5], [10, 3.7, 12], [4, 5.5, 0]])))"
      ],
      "execution_count": null,
      "outputs": []
    },
    {
      "cell_type": "markdown",
      "metadata": {
        "id": "VCz0GvsYF6ab"
      },
      "source": [
        "### Question 2b (2% total grade):\n",
        "In fact, the function above is called the `softmax` function, and scipy has an implementation for it. First, read the API at: https://docs.scipy.org/doc/scipy/reference/generated/scipy.special.softmax.html.\n",
        "\n",
        "Then write code to apply this version of the `softmax` function on the sample matrices above and print out the results."
      ]
    },
    {
      "cell_type": "code",
      "metadata": {
        "id": "7lVz5PDKF7eC"
      },
      "source": [
        "# The function has been imported for you\n",
        "from scipy.special import softmax\n",
        "\n",
        "# Write your code here\n",
        "print(softmax(np.array([[4, 6], [3.5, 9.1]]), axis=1))\n",
        "print(softmax(np.array([[2, 3.1, 5], [10, 3.7, 12], [4, 5.5, 0]]), axis=1))"
      ],
      "execution_count": null,
      "outputs": []
    },
    {
      "cell_type": "markdown",
      "metadata": {
        "id": "7pr1Ci05tu43"
      },
      "source": [
        "## Question 3: Vector scaling (5% total grade)\n",
        "\n",
        "Given a vector of real numbers $r = (r_1, r_2, ..., r_n)$. We can standardize the vector using the formulation: $v_i = \\frac{r_i - m}{s}$, where $m$ is the mean of the vector $r$, and $s$ is the standard deviation of $r$. The vector $v = (v_1, v_2, ..., v_n)$ will be the scaled vector.\n",
        "\n",
        "Write a Python function `scale_vec(r)` that takes the vector $r$ as input and returns the scaled vector $v$.\n",
        "\n",
        "Sample inputs and outputs:\n",
        "*   **Input**: `np.array([1, 3, 5])`, **output**: `[-1.22474487, 0., 1.22474487]`\n",
        "*   **Input**: `np.array([3.3, 1.2, -2.7, -0.6])`, **output**: `[1.35457092, 0.40637128, -1.35457092, -0.40637128]`"
      ]
    },
    {
      "cell_type": "code",
      "metadata": {
        "id": "9wRha-1odloq"
      },
      "source": [
        "# Write your function here\n",
        "\n",
        "def scale_vec(r):\n",
        "    m, s = np.mean(r), np.std(r)\n",
        "    return (r-m)/s"
      ],
      "execution_count": null,
      "outputs": []
    },
    {
      "cell_type": "markdown",
      "metadata": {
        "id": "85JtQYOhLf1V"
      },
      "source": [
        "Let's test your function."
      ]
    },
    {
      "cell_type": "code",
      "metadata": {
        "id": "09jWVlsJdlxO"
      },
      "source": [
        "import numpy as np\n",
        "\n",
        "print(scale_vec(np.array([1, 3, 5])))\n",
        "print(scale_vec(np.array([3.3, 1.2, -2.7, -0.6])))"
      ],
      "execution_count": null,
      "outputs": []
    }
  ]
}